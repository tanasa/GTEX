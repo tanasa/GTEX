{
 "cells": [
  {
   "cell_type": "code",
   "execution_count": null,
   "id": "b054a4a8",
   "metadata": {},
   "outputs": [],
   "source": [
    "# We are working with the following data :\n",
    "\n",
    "# TPM normalized \n",
    "# bulk-gex_v8_rna-seq_GTEx_Analysis_2017-06-05_v8_RNASeQCv1.1.9_gene_tpm.gct\n",
    "\n",
    "# METADATA data that is downloaded from github GTEX website\n",
    "# https://github.com/broadinstitute/gtex-v8/tree/master/data\n",
    "# GTEx_Analysis_v8_RNAseq_samples.txt\n"
   ]
  },
  {
   "cell_type": "code",
   "execution_count": null,
   "id": "e3a51c55",
   "metadata": {},
   "outputs": [],
   "source": [
    "\n",
    "# We have applied the following pre-processing steps described below :\n",
    "# I have preferred to use awk/unix shell commands as it expedites the processing of large files\n",
    "\n",
    "# to remove the first 2 lines\n",
    "\n",
    "file=\"bulk-gex_v8_rna-seq_GTEx_Analysis_2017-06-05_v8_RNASeQCv1.1.9_gene_tpm.gct\"\n",
    "awk 'NR>2' $file > df.txt\n",
    "\n",
    "# to remove the 1st column that contains the ENSEMBL ID\n",
    "cut -f2- df.txt > df2.txt\n",
    "\n",
    "# to compute the number of columns (samples)\n",
    "head -n1 df2.txt | grep -o \"\\t\" | wc -l\n",
    "# 17382\n",
    "\n",
    "# to compute the number of rows (genes)\n",
    "cat df2.txt | wc -l\n",
    "# 56201\n",
    "\n",
    "# to keep only en entry per gene, if the gene name is duplicated\n",
    "awk '!a[$1]++' df2.txt > df3.txt\n",
    "\n",
    "cat  df3.txt | wc -l\n",
    "# 54592 genes"
   ]
  },
  {
   "cell_type": "code",
   "execution_count": null,
   "id": "d07cceec",
   "metadata": {},
   "outputs": [],
   "source": [
    "# To select only the protein coding genes\n",
    "# To get names of the protein coding genesin the human genome ; \n",
    "# we downloaded the file Homo_sapiens.GRCh38.104.chr.gtf.gz \n",
    "# and extracted the names of the protein coding genes\n",
    "\n",
    "wget http://ftp.ensembl.org/pub/release-104/gtf/homo_sapiens/Homo_sapiens.GRCh38.104.chr.gtf.gz ./\n",
    "grep \"gene_biotype \\\"protein_coding\\\"\" > Homo_sapiens.GRCh38.104.protein_coding.gtf\n",
    "awk '$3==\"gene\"{print $14}' Homo_sapiens.GRCh38.104.protein_coding.gtf \\\n",
    "| sed 's/\\\"//g' | sed 's/\\;//g'| sort -u \\\n",
    "> Homo_sapiens.GRCh38.104.protein_coding.txt\n",
    "\n",
    "# in this particular repo from Ensembl we can count 19352 names of the protein coding genes "
   ]
  },
  {
   "cell_type": "code",
   "execution_count": null,
   "id": "dd882e64",
   "metadata": {},
   "outputs": [],
   "source": [
    "# To extract from data frame df3 only the expression data of the protein-coding genes, \n",
    "# by considering the names listed in  Homo_sapiens.GRCh38.104.protein_coding.txt\n",
    "\n",
    "file1=\"Homo_sapiens.GRCh38.104.protein_coding.txt\"\n",
    "file2=\"df3.txt\"\n",
    "awk 'NR==FNR{c[$1]++;next};c[$1] > 0' $file1 $file2 > df3.protein_coding.txt\n",
    "\n",
    "# To add the head containing the names of the samples to the file df3.protein_coding.txt\n",
    "cat df3.header df3.protein_coding.txt > df3.protein_coding_genes.txt"
   ]
  },
  {
   "cell_type": "code",
   "execution_count": null,
   "id": "9e215555",
   "metadata": {},
   "outputs": [],
   "source": [
    "\n",
    "# To restrict the analysis to the following tissues :\n",
    "# liver, heart, kidney, lung, muscle, pancreas, spleen, stomach, pituitary gland, and thyroid.\n",
    "# To extract the IDs of the samples from the metadata file : GTEx_Analysis_v8_RNAseq_samples.txt\n",
    "\n",
    "grep \"Liver\" GTEx_Analysis_v8_RNAseq_samples.txt > GTEx_Analysis_v8_RNAseq_samples.Liver.txt\n",
    "grep \"Heart\" GTEx_Analysis_v8_RNAseq_samples.txt > GTEx_Analysis_v8_RNAseq_samples.Heart.txt\n",
    "grep \"Kidney\" GTEx_Analysis_v8_RNAseq_samples.txt > GTEx_Analysis_v8_RNAseq_samples.Kidney.txt\n",
    "grep \"Lung\" GTEx_Analysis_v8_RNAseq_samples.txt > GTEx_Analysis_v8_RNAseq_samples.Lung.txt\n",
    "grep \"Muscle\" GTEx_Analysis_v8_RNAseq_samples.txt > GTEx_Analysis_v8_RNAseq_samples.Muscle.txt\n",
    "grep \"Pancreas\" GTEx_Analysis_v8_RNAseq_samples.txt > GTEx_Analysis_v8_RNAseq_samples.Pancreas.txt\n",
    "grep \"Spleen\" GTEx_Analysis_v8_RNAseq_samples.txt > GTEx_Analysis_v8_RNAseq_samples.Spleen.txt\n",
    "grep \"Stomach\" GTEx_Analysis_v8_RNAseq_samples.txt > GTEx_Analysis_v8_RNAseq_samples.Stomach.txt\n",
    "grep \"Pituitary\" GTEx_Analysis_v8_RNAseq_samples.txt > GTEx_Analysis_v8_RNAseq_samples.Pituitary.txt\n",
    "grep \"Thyroid\" GTEx_Analysis_v8_RNAseq_samples.txt > GTEx_Analysis_v8_RNAseq_samples.Thyroid.txt\n",
    "\n",
    "# We are working with the following number of samples \n",
    "\n",
    "861 : GTEx_Analysis_v8_RNAseq_samples.Heart.txt\n",
    "89  : GTEx_Analysis_v8_RNAseq_samples.Kidney.txt\n",
    "226 : GTEx_Analysis_v8_RNAseq_samples.Liver.txt\n",
    "578 : GTEx_Analysis_v8_RNAseq_samples.Lung.txt\n",
    "803 : GTEx_Analysis_v8_RNAseq_samples.Muscle.txt\n",
    "328 : GTEx_Analysis_v8_RNAseq_samples.Pancreas.txt\n",
    "283 : GTEx_Analysis_v8_RNAseq_samples.Pituitary.txt\n",
    "241 : GTEx_Analysis_v8_RNAseq_samples.Spleen.txt\n",
    "359 : GTEx_Analysis_v8_RNAseq_samples.Stomach.txt\n",
    "653 : GTEx_Analysis_v8_RNAseq_samples.Thyroid.txt\n",
    "\n",
    "cat \\\n",
    "GTEx_Analysis_v8_RNAseq_samples.Heart.txt \\\n",
    "GTEx_Analysis_v8_RNAseq_samples.Kidney.txt \\\n",
    "GTEx_Analysis_v8_RNAseq_samples.Liver.txt \\\n",
    "GTEx_Analysis_v8_RNAseq_samples.Lung.txt \\\n",
    "GTEx_Analysis_v8_RNAseq_samples.Muscle.txt \\\n",
    "GTEx_Analysis_v8_RNAseq_samples.Pancreas.txt \\\n",
    "GTEx_Analysis_v8_RNAseq_samples.Pituitary.txt \\\n",
    "GTEx_Analysis_v8_RNAseq_samples.Spleen.txt \\\n",
    "GTEx_Analysis_v8_RNAseq_samples.Stomach.txt \\\n",
    "GTEx_Analysis_v8_RNAseq_samples.Thyroid.txt \\\n",
    "> GTEx_Analysis_v8_RNAseq_samples.ASSIGN.txt\n",
    "\n",
    "# There are 4421 samples"
   ]
  },
  {
   "cell_type": "code",
   "execution_count": null,
   "id": "95701c72",
   "metadata": {},
   "outputs": [],
   "source": [
    "# We perform the next steps of the analysis in R."
   ]
  }
 ],
 "metadata": {
  "kernelspec": {
   "display_name": "R",
   "language": "R",
   "name": "ir"
  },
  "language_info": {
   "codemirror_mode": "r",
   "file_extension": ".r",
   "mimetype": "text/x-r-source",
   "name": "R",
   "pygments_lexer": "r",
   "version": "4.2.2"
  }
 },
 "nbformat": 4,
 "nbformat_minor": 5
}
