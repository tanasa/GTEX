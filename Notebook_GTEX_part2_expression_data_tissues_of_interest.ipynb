{
 "cells": [
  {
   "cell_type": "code",
   "execution_count": 32,
   "id": "28add82a",
   "metadata": {},
   "outputs": [],
   "source": [
    "# To extract the expression data (columns) that correspond to specific tissues of interest "
   ]
  },
  {
   "cell_type": "code",
   "execution_count": 4,
   "id": "40663675",
   "metadata": {},
   "outputs": [
    {
     "name": "stderr",
     "output_type": "stream",
     "text": [
      "── \u001b[1mAttaching core tidyverse packages\u001b[22m ────────────────────────────────────────────────────────────────────────────────────────────────────────────────────── tidyverse 2.0.0 ──\n",
      "\u001b[32m✔\u001b[39m \u001b[34mdplyr    \u001b[39m 1.1.0     \u001b[32m✔\u001b[39m \u001b[34mreadr    \u001b[39m 2.1.4\n",
      "\u001b[32m✔\u001b[39m \u001b[34mforcats  \u001b[39m 1.0.0     \u001b[32m✔\u001b[39m \u001b[34mstringr  \u001b[39m 1.5.0\n",
      "\u001b[32m✔\u001b[39m \u001b[34mggplot2  \u001b[39m 3.4.1     \u001b[32m✔\u001b[39m \u001b[34mtibble   \u001b[39m 3.1.8\n",
      "\u001b[32m✔\u001b[39m \u001b[34mlubridate\u001b[39m 1.9.2     \u001b[32m✔\u001b[39m \u001b[34mtidyr    \u001b[39m 1.3.0\n",
      "\u001b[32m✔\u001b[39m \u001b[34mpurrr    \u001b[39m 1.0.1     \n",
      "── \u001b[1mConflicts\u001b[22m ──────────────────────────────────────────────────────────────────────────────────────────────────────────────────────────────────────── tidyverse_conflicts() ──\n",
      "\u001b[31m✖\u001b[39m \u001b[34mpurrr\u001b[39m::\u001b[32maccumulate()\u001b[39m  masks \u001b[34mforeach\u001b[39m::accumulate()\n",
      "\u001b[31m✖\u001b[39m \u001b[34mdplyr\u001b[39m::\u001b[32marrange()\u001b[39m     masks \u001b[34mplyr\u001b[39m::arrange()\n",
      "\u001b[31m✖\u001b[39m \u001b[34mdplyr\u001b[39m::\u001b[32mbetween()\u001b[39m     masks \u001b[34mdata.table\u001b[39m::between()\n",
      "\u001b[31m✖\u001b[39m \u001b[34mpurrr\u001b[39m::\u001b[32mcompact()\u001b[39m     masks \u001b[34mplyr\u001b[39m::compact()\n",
      "\u001b[31m✖\u001b[39m \u001b[34mdplyr\u001b[39m::\u001b[32mcount()\u001b[39m       masks \u001b[34mplyr\u001b[39m::count()\n",
      "\u001b[31m✖\u001b[39m \u001b[34mdplyr\u001b[39m::\u001b[32mdesc()\u001b[39m        masks \u001b[34mplyr\u001b[39m::desc()\n",
      "\u001b[31m✖\u001b[39m \u001b[34mdplyr\u001b[39m::\u001b[32mfailwith()\u001b[39m    masks \u001b[34mplyr\u001b[39m::failwith()\n",
      "\u001b[31m✖\u001b[39m \u001b[34mdplyr\u001b[39m::\u001b[32mfilter()\u001b[39m      masks \u001b[34mstats\u001b[39m::filter()\n",
      "\u001b[31m✖\u001b[39m \u001b[34mdplyr\u001b[39m::\u001b[32mfirst()\u001b[39m       masks \u001b[34mdata.table\u001b[39m::first()\n",
      "\u001b[31m✖\u001b[39m \u001b[34mlubridate\u001b[39m::\u001b[32mhour()\u001b[39m    masks \u001b[34mdata.table\u001b[39m::hour()\n",
      "\u001b[31m✖\u001b[39m \u001b[34mdplyr\u001b[39m::\u001b[32mid()\u001b[39m          masks \u001b[34mplyr\u001b[39m::id()\n",
      "\u001b[31m✖\u001b[39m \u001b[34mlubridate\u001b[39m::\u001b[32misoweek()\u001b[39m masks \u001b[34mdata.table\u001b[39m::isoweek()\n",
      "\u001b[31m✖\u001b[39m \u001b[34mdplyr\u001b[39m::\u001b[32mlag()\u001b[39m         masks \u001b[34mstats\u001b[39m::lag()\n",
      "\u001b[31m✖\u001b[39m \u001b[34mdplyr\u001b[39m::\u001b[32mlast()\u001b[39m        masks \u001b[34mdata.table\u001b[39m::last()\n",
      "\u001b[31m✖\u001b[39m \u001b[34mlubridate\u001b[39m::\u001b[32mmday()\u001b[39m    masks \u001b[34mdata.table\u001b[39m::mday()\n",
      "\u001b[31m✖\u001b[39m \u001b[34mlubridate\u001b[39m::\u001b[32mminute()\u001b[39m  masks \u001b[34mdata.table\u001b[39m::minute()\n",
      "\u001b[31m✖\u001b[39m \u001b[34mlubridate\u001b[39m::\u001b[32mmonth()\u001b[39m   masks \u001b[34mdata.table\u001b[39m::month()\n",
      "\u001b[31m✖\u001b[39m \u001b[34mdplyr\u001b[39m::\u001b[32mmutate()\u001b[39m      masks \u001b[34mplyr\u001b[39m::mutate()\n",
      "\u001b[31m✖\u001b[39m \u001b[34mlubridate\u001b[39m::\u001b[32mquarter()\u001b[39m masks \u001b[34mdata.table\u001b[39m::quarter()\n",
      "\u001b[31m✖\u001b[39m \u001b[34mdplyr\u001b[39m::\u001b[32mrename()\u001b[39m      masks \u001b[34mplyr\u001b[39m::rename()\n",
      "\u001b[31m✖\u001b[39m \u001b[34mlubridate\u001b[39m::\u001b[32msecond()\u001b[39m  masks \u001b[34mdata.table\u001b[39m::second()\n",
      "\u001b[31m✖\u001b[39m \u001b[34mdplyr\u001b[39m::\u001b[32msummarise()\u001b[39m   masks \u001b[34mplyr\u001b[39m::summarise()\n",
      "\u001b[31m✖\u001b[39m \u001b[34mdplyr\u001b[39m::\u001b[32msummarize()\u001b[39m   masks \u001b[34mplyr\u001b[39m::summarize()\n",
      "\u001b[31m✖\u001b[39m \u001b[34mpurrr\u001b[39m::\u001b[32mtranspose()\u001b[39m   masks \u001b[34mdata.table\u001b[39m::transpose()\n",
      "\u001b[31m✖\u001b[39m \u001b[34mlubridate\u001b[39m::\u001b[32mwday()\u001b[39m    masks \u001b[34mdata.table\u001b[39m::wday()\n",
      "\u001b[31m✖\u001b[39m \u001b[34mlubridate\u001b[39m::\u001b[32mweek()\u001b[39m    masks \u001b[34mdata.table\u001b[39m::week()\n",
      "\u001b[31m✖\u001b[39m \u001b[34mpurrr\u001b[39m::\u001b[32mwhen()\u001b[39m        masks \u001b[34mforeach\u001b[39m::when()\n",
      "\u001b[31m✖\u001b[39m \u001b[34mlubridate\u001b[39m::\u001b[32myday()\u001b[39m    masks \u001b[34mdata.table\u001b[39m::yday()\n",
      "\u001b[31m✖\u001b[39m \u001b[34mlubridate\u001b[39m::\u001b[32myear()\u001b[39m    masks \u001b[34mdata.table\u001b[39m::year()\n",
      "\u001b[36mℹ\u001b[39m Use the conflicted package (\u001b[3m\u001b[34m<http://conflicted.r-lib.org/>\u001b[39m\u001b[23m) to force all conflicts to become errors\n"
     ]
    },
    {
     "data": {
      "text/html": [
       "10"
      ],
      "text/latex": [
       "10"
      ],
      "text/markdown": [
       "10"
      ],
      "text/plain": [
       "[1] 10"
      ]
     },
     "metadata": {},
     "output_type": "display_data"
    }
   ],
   "source": [
    "library(data.table, quietly = TRUE)\n",
    "library(plyr, quietly = TRUE)\n",
    "library(doParallel,quietly = TRUE)\n",
    "library(tidyverse, quietly = TRUE)\n",
    "\n",
    "cores <- detectCores()\n",
    "cores\n",
    "registerDoParallel(cores=cores)\n",
    "options(future.globals.maxSize = Inf)"
   ]
  },
  {
   "cell_type": "code",
   "execution_count": 6,
   "id": "a826637e",
   "metadata": {},
   "outputs": [
    {
     "data": {
      "text/html": [
       "<table class=\"dataframe\">\n",
       "<caption>A data.table: 6 × 17383</caption>\n",
       "<thead>\n",
       "\t<tr><th scope=col>Description</th><th scope=col>GTEX-1117F-0226-SM-5GZZ7</th><th scope=col>GTEX-1117F-0426-SM-5EGHI</th><th scope=col>GTEX-1117F-0526-SM-5EGHJ</th><th scope=col>GTEX-1117F-0626-SM-5N9CS</th><th scope=col>GTEX-1117F-0726-SM-5GIEN</th><th scope=col>GTEX-1117F-1326-SM-5EGHH</th><th scope=col>GTEX-1117F-2426-SM-5EGGH</th><th scope=col>GTEX-1117F-2526-SM-5GZY6</th><th scope=col>GTEX-1117F-2826-SM-5GZXL</th><th scope=col>⋯</th><th scope=col>GTEX-ZZPU-1126-SM-5N9CW</th><th scope=col>GTEX-ZZPU-1226-SM-5N9CK</th><th scope=col>GTEX-ZZPU-1326-SM-5GZWS</th><th scope=col>GTEX-ZZPU-1426-SM-5GZZ6</th><th scope=col>GTEX-ZZPU-1826-SM-5E43L</th><th scope=col>GTEX-ZZPU-2126-SM-5EGIU</th><th scope=col>GTEX-ZZPU-2226-SM-5EGIV</th><th scope=col>GTEX-ZZPU-2426-SM-5E44I</th><th scope=col>GTEX-ZZPU-2626-SM-5E45Y</th><th scope=col>GTEX-ZZPU-2726-SM-5NQ8O</th></tr>\n",
       "\t<tr><th scope=col>&lt;chr&gt;</th><th scope=col>&lt;dbl&gt;</th><th scope=col>&lt;dbl&gt;</th><th scope=col>&lt;dbl&gt;</th><th scope=col>&lt;dbl&gt;</th><th scope=col>&lt;dbl&gt;</th><th scope=col>&lt;dbl&gt;</th><th scope=col>&lt;dbl&gt;</th><th scope=col>&lt;dbl&gt;</th><th scope=col>&lt;dbl&gt;</th><th scope=col>⋯</th><th scope=col>&lt;dbl&gt;</th><th scope=col>&lt;dbl&gt;</th><th scope=col>&lt;dbl&gt;</th><th scope=col>&lt;dbl&gt;</th><th scope=col>&lt;dbl&gt;</th><th scope=col>&lt;dbl&gt;</th><th scope=col>&lt;dbl&gt;</th><th scope=col>&lt;dbl&gt;</th><th scope=col>&lt;dbl&gt;</th><th scope=col>&lt;dbl&gt;</th></tr>\n",
       "</thead>\n",
       "<tbody>\n",
       "\t<tr><td>OR4F5 </td><td> 0.00000</td><td> 0.10250</td><td> 0.07434</td><td> 0.00</td><td> 0.04233</td><td> 0.05609</td><td> 0.17430</td><td> 0.00000</td><td> 0.00000</td><td>⋯</td><td> 0.12900</td><td> 0.13670</td><td> 0.05729</td><td> 0.12690</td><td> 0.11980</td><td> 0.06767</td><td> 0.11350</td><td> 0.0000</td><td> 0.1480</td><td> 0.00000</td></tr>\n",
       "\t<tr><td>OR4F29</td><td> 0.00000</td><td> 0.05009</td><td> 0.00000</td><td> 0.00</td><td> 0.00000</td><td> 0.05483</td><td> 0.08519</td><td> 0.05068</td><td> 0.19860</td><td>⋯</td><td> 0.00000</td><td> 0.03341</td><td> 0.11200</td><td> 0.00000</td><td> 0.11710</td><td> 0.00000</td><td> 0.05548</td><td> 0.1924</td><td> 0.1447</td><td> 0.00000</td></tr>\n",
       "\t<tr><td>OR4F16</td><td> 0.06628</td><td> 0.00000</td><td> 0.00000</td><td> 0.00</td><td> 0.04138</td><td> 0.00000</td><td> 0.00000</td><td> 0.00000</td><td> 0.04965</td><td>⋯</td><td> 0.03154</td><td> 0.03341</td><td> 0.00000</td><td> 0.04136</td><td> 0.07806</td><td> 0.19850</td><td> 0.16640</td><td> 0.0000</td><td> 0.0000</td><td> 0.04644</td></tr>\n",
       "\t<tr><td>SAMD11</td><td> 0.35980</td><td> 0.47600</td><td> 0.27620</td><td>12.03</td><td>11.39000</td><td> 1.71200</td><td>25.12000</td><td> 2.09100</td><td> 0.67390</td><td>⋯</td><td> 6.65200</td><td> 4.76100</td><td> 1.24700</td><td> 1.76300</td><td> 1.02800</td><td> 0.80820</td><td> 0.45190</td><td> 6.3460</td><td> 1.0510</td><td> 0.16390</td></tr>\n",
       "\t<tr><td>NOC2L </td><td>90.74000</td><td>93.56000</td><td>94.87000</td><td>67.60</td><td>26.52000</td><td>33.67000</td><td>85.62000</td><td>93.06000</td><td>64.54000</td><td>⋯</td><td>34.88000</td><td>42.61000</td><td>60.42000</td><td>41.23000</td><td>52.21000</td><td>55.73000</td><td>71.21000</td><td>58.7600</td><td>75.2200</td><td>39.30000</td></tr>\n",
       "\t<tr><td>KLHL17</td><td>10.86000</td><td> 1.11500</td><td> 6.68400</td><td>20.10</td><td> 6.50300</td><td> 8.79400</td><td>19.77000</td><td>25.61000</td><td>18.68000</td><td>⋯</td><td> 6.38100</td><td> 8.22500</td><td>20.48000</td><td> 9.94300</td><td> 9.00500</td><td> 2.22000</td><td> 8.50400</td><td> 7.6990</td><td> 2.7900</td><td> 7.94200</td></tr>\n",
       "</tbody>\n",
       "</table>\n"
      ],
      "text/latex": [
       "A data.table: 6 × 17383\n",
       "\\begin{tabular}{lllllllllllllllllllll}\n",
       " Description & GTEX-1117F-0226-SM-5GZZ7 & GTEX-1117F-0426-SM-5EGHI & GTEX-1117F-0526-SM-5EGHJ & GTEX-1117F-0626-SM-5N9CS & GTEX-1117F-0726-SM-5GIEN & GTEX-1117F-1326-SM-5EGHH & GTEX-1117F-2426-SM-5EGGH & GTEX-1117F-2526-SM-5GZY6 & GTEX-1117F-2826-SM-5GZXL & ⋯ & GTEX-ZZPU-1126-SM-5N9CW & GTEX-ZZPU-1226-SM-5N9CK & GTEX-ZZPU-1326-SM-5GZWS & GTEX-ZZPU-1426-SM-5GZZ6 & GTEX-ZZPU-1826-SM-5E43L & GTEX-ZZPU-2126-SM-5EGIU & GTEX-ZZPU-2226-SM-5EGIV & GTEX-ZZPU-2426-SM-5E44I & GTEX-ZZPU-2626-SM-5E45Y & GTEX-ZZPU-2726-SM-5NQ8O\\\\\n",
       " <chr> & <dbl> & <dbl> & <dbl> & <dbl> & <dbl> & <dbl> & <dbl> & <dbl> & <dbl> & ⋯ & <dbl> & <dbl> & <dbl> & <dbl> & <dbl> & <dbl> & <dbl> & <dbl> & <dbl> & <dbl>\\\\\n",
       "\\hline\n",
       "\t OR4F5  &  0.00000 &  0.10250 &  0.07434 &  0.00 &  0.04233 &  0.05609 &  0.17430 &  0.00000 &  0.00000 & ⋯ &  0.12900 &  0.13670 &  0.05729 &  0.12690 &  0.11980 &  0.06767 &  0.11350 &  0.0000 &  0.1480 &  0.00000\\\\\n",
       "\t OR4F29 &  0.00000 &  0.05009 &  0.00000 &  0.00 &  0.00000 &  0.05483 &  0.08519 &  0.05068 &  0.19860 & ⋯ &  0.00000 &  0.03341 &  0.11200 &  0.00000 &  0.11710 &  0.00000 &  0.05548 &  0.1924 &  0.1447 &  0.00000\\\\\n",
       "\t OR4F16 &  0.06628 &  0.00000 &  0.00000 &  0.00 &  0.04138 &  0.00000 &  0.00000 &  0.00000 &  0.04965 & ⋯ &  0.03154 &  0.03341 &  0.00000 &  0.04136 &  0.07806 &  0.19850 &  0.16640 &  0.0000 &  0.0000 &  0.04644\\\\\n",
       "\t SAMD11 &  0.35980 &  0.47600 &  0.27620 & 12.03 & 11.39000 &  1.71200 & 25.12000 &  2.09100 &  0.67390 & ⋯ &  6.65200 &  4.76100 &  1.24700 &  1.76300 &  1.02800 &  0.80820 &  0.45190 &  6.3460 &  1.0510 &  0.16390\\\\\n",
       "\t NOC2L  & 90.74000 & 93.56000 & 94.87000 & 67.60 & 26.52000 & 33.67000 & 85.62000 & 93.06000 & 64.54000 & ⋯ & 34.88000 & 42.61000 & 60.42000 & 41.23000 & 52.21000 & 55.73000 & 71.21000 & 58.7600 & 75.2200 & 39.30000\\\\\n",
       "\t KLHL17 & 10.86000 &  1.11500 &  6.68400 & 20.10 &  6.50300 &  8.79400 & 19.77000 & 25.61000 & 18.68000 & ⋯ &  6.38100 &  8.22500 & 20.48000 &  9.94300 &  9.00500 &  2.22000 &  8.50400 &  7.6990 &  2.7900 &  7.94200\\\\\n",
       "\\end{tabular}\n"
      ],
      "text/markdown": [
       "\n",
       "A data.table: 6 × 17383\n",
       "\n",
       "| Description &lt;chr&gt; | GTEX-1117F-0226-SM-5GZZ7 &lt;dbl&gt; | GTEX-1117F-0426-SM-5EGHI &lt;dbl&gt; | GTEX-1117F-0526-SM-5EGHJ &lt;dbl&gt; | GTEX-1117F-0626-SM-5N9CS &lt;dbl&gt; | GTEX-1117F-0726-SM-5GIEN &lt;dbl&gt; | GTEX-1117F-1326-SM-5EGHH &lt;dbl&gt; | GTEX-1117F-2426-SM-5EGGH &lt;dbl&gt; | GTEX-1117F-2526-SM-5GZY6 &lt;dbl&gt; | GTEX-1117F-2826-SM-5GZXL &lt;dbl&gt; | ⋯ ⋯ | GTEX-ZZPU-1126-SM-5N9CW &lt;dbl&gt; | GTEX-ZZPU-1226-SM-5N9CK &lt;dbl&gt; | GTEX-ZZPU-1326-SM-5GZWS &lt;dbl&gt; | GTEX-ZZPU-1426-SM-5GZZ6 &lt;dbl&gt; | GTEX-ZZPU-1826-SM-5E43L &lt;dbl&gt; | GTEX-ZZPU-2126-SM-5EGIU &lt;dbl&gt; | GTEX-ZZPU-2226-SM-5EGIV &lt;dbl&gt; | GTEX-ZZPU-2426-SM-5E44I &lt;dbl&gt; | GTEX-ZZPU-2626-SM-5E45Y &lt;dbl&gt; | GTEX-ZZPU-2726-SM-5NQ8O &lt;dbl&gt; |\n",
       "|---|---|---|---|---|---|---|---|---|---|---|---|---|---|---|---|---|---|---|---|---|\n",
       "| OR4F5  |  0.00000 |  0.10250 |  0.07434 |  0.00 |  0.04233 |  0.05609 |  0.17430 |  0.00000 |  0.00000 | ⋯ |  0.12900 |  0.13670 |  0.05729 |  0.12690 |  0.11980 |  0.06767 |  0.11350 |  0.0000 |  0.1480 |  0.00000 |\n",
       "| OR4F29 |  0.00000 |  0.05009 |  0.00000 |  0.00 |  0.00000 |  0.05483 |  0.08519 |  0.05068 |  0.19860 | ⋯ |  0.00000 |  0.03341 |  0.11200 |  0.00000 |  0.11710 |  0.00000 |  0.05548 |  0.1924 |  0.1447 |  0.00000 |\n",
       "| OR4F16 |  0.06628 |  0.00000 |  0.00000 |  0.00 |  0.04138 |  0.00000 |  0.00000 |  0.00000 |  0.04965 | ⋯ |  0.03154 |  0.03341 |  0.00000 |  0.04136 |  0.07806 |  0.19850 |  0.16640 |  0.0000 |  0.0000 |  0.04644 |\n",
       "| SAMD11 |  0.35980 |  0.47600 |  0.27620 | 12.03 | 11.39000 |  1.71200 | 25.12000 |  2.09100 |  0.67390 | ⋯ |  6.65200 |  4.76100 |  1.24700 |  1.76300 |  1.02800 |  0.80820 |  0.45190 |  6.3460 |  1.0510 |  0.16390 |\n",
       "| NOC2L  | 90.74000 | 93.56000 | 94.87000 | 67.60 | 26.52000 | 33.67000 | 85.62000 | 93.06000 | 64.54000 | ⋯ | 34.88000 | 42.61000 | 60.42000 | 41.23000 | 52.21000 | 55.73000 | 71.21000 | 58.7600 | 75.2200 | 39.30000 |\n",
       "| KLHL17 | 10.86000 |  1.11500 |  6.68400 | 20.10 |  6.50300 |  8.79400 | 19.77000 | 25.61000 | 18.68000 | ⋯ |  6.38100 |  8.22500 | 20.48000 |  9.94300 |  9.00500 |  2.22000 |  8.50400 |  7.6990 |  2.7900 |  7.94200 |\n",
       "\n"
      ],
      "text/plain": [
       "  Description GTEX-1117F-0226-SM-5GZZ7 GTEX-1117F-0426-SM-5EGHI\n",
       "1 OR4F5        0.00000                  0.10250                \n",
       "2 OR4F29       0.00000                  0.05009                \n",
       "3 OR4F16       0.06628                  0.00000                \n",
       "4 SAMD11       0.35980                  0.47600                \n",
       "5 NOC2L       90.74000                 93.56000                \n",
       "6 KLHL17      10.86000                  1.11500                \n",
       "  GTEX-1117F-0526-SM-5EGHJ GTEX-1117F-0626-SM-5N9CS GTEX-1117F-0726-SM-5GIEN\n",
       "1  0.07434                  0.00                     0.04233                \n",
       "2  0.00000                  0.00                     0.00000                \n",
       "3  0.00000                  0.00                     0.04138                \n",
       "4  0.27620                 12.03                    11.39000                \n",
       "5 94.87000                 67.60                    26.52000                \n",
       "6  6.68400                 20.10                     6.50300                \n",
       "  GTEX-1117F-1326-SM-5EGHH GTEX-1117F-2426-SM-5EGGH GTEX-1117F-2526-SM-5GZY6\n",
       "1  0.05609                  0.17430                  0.00000                \n",
       "2  0.05483                  0.08519                  0.05068                \n",
       "3  0.00000                  0.00000                  0.00000                \n",
       "4  1.71200                 25.12000                  2.09100                \n",
       "5 33.67000                 85.62000                 93.06000                \n",
       "6  8.79400                 19.77000                 25.61000                \n",
       "  GTEX-1117F-2826-SM-5GZXL ⋯ GTEX-ZZPU-1126-SM-5N9CW GTEX-ZZPU-1226-SM-5N9CK\n",
       "1  0.00000                 ⋯  0.12900                 0.13670               \n",
       "2  0.19860                 ⋯  0.00000                 0.03341               \n",
       "3  0.04965                 ⋯  0.03154                 0.03341               \n",
       "4  0.67390                 ⋯  6.65200                 4.76100               \n",
       "5 64.54000                 ⋯ 34.88000                42.61000               \n",
       "6 18.68000                 ⋯  6.38100                 8.22500               \n",
       "  GTEX-ZZPU-1326-SM-5GZWS GTEX-ZZPU-1426-SM-5GZZ6 GTEX-ZZPU-1826-SM-5E43L\n",
       "1  0.05729                 0.12690                 0.11980               \n",
       "2  0.11200                 0.00000                 0.11710               \n",
       "3  0.00000                 0.04136                 0.07806               \n",
       "4  1.24700                 1.76300                 1.02800               \n",
       "5 60.42000                41.23000                52.21000               \n",
       "6 20.48000                 9.94300                 9.00500               \n",
       "  GTEX-ZZPU-2126-SM-5EGIU GTEX-ZZPU-2226-SM-5EGIV GTEX-ZZPU-2426-SM-5E44I\n",
       "1  0.06767                 0.11350                 0.0000                \n",
       "2  0.00000                 0.05548                 0.1924                \n",
       "3  0.19850                 0.16640                 0.0000                \n",
       "4  0.80820                 0.45190                 6.3460                \n",
       "5 55.73000                71.21000                58.7600                \n",
       "6  2.22000                 8.50400                 7.6990                \n",
       "  GTEX-ZZPU-2626-SM-5E45Y GTEX-ZZPU-2726-SM-5NQ8O\n",
       "1  0.1480                  0.00000               \n",
       "2  0.1447                  0.00000               \n",
       "3  0.0000                  0.04644               \n",
       "4  1.0510                  0.16390               \n",
       "5 75.2200                 39.30000               \n",
       "6  2.7900                  7.94200               "
      ]
     },
     "metadata": {},
     "output_type": "display_data"
    }
   ],
   "source": [
    "setwd(\"/Users/tanasab/Desktop/GTEX\")\n",
    "a = fread(\"df3.protein_coding_genes.txt\", sep=\"\\t\")\n",
    "head(a)"
   ]
  },
  {
   "cell_type": "code",
   "execution_count": 35,
   "id": "2ff1cd5d",
   "metadata": {},
   "outputs": [
    {
     "data": {
      "text/html": [
       "<style>\n",
       ".list-inline {list-style: none; margin:0; padding: 0}\n",
       ".list-inline>li {display: inline-block}\n",
       ".list-inline>li:not(:last-child)::after {content: \"\\00b7\"; padding: 0 .5ex}\n",
       "</style>\n",
       "<ol class=list-inline><li>'OR4F5'</li><li>'OR4F29'</li><li>'OR4F16'</li><li>'SAMD11'</li><li>'NOC2L'</li><li>'KLHL17'</li></ol>\n"
      ],
      "text/latex": [
       "\\begin{enumerate*}\n",
       "\\item 'OR4F5'\n",
       "\\item 'OR4F29'\n",
       "\\item 'OR4F16'\n",
       "\\item 'SAMD11'\n",
       "\\item 'NOC2L'\n",
       "\\item 'KLHL17'\n",
       "\\end{enumerate*}\n"
      ],
      "text/markdown": [
       "1. 'OR4F5'\n",
       "2. 'OR4F29'\n",
       "3. 'OR4F16'\n",
       "4. 'SAMD11'\n",
       "5. 'NOC2L'\n",
       "6. 'KLHL17'\n",
       "\n",
       "\n"
      ],
      "text/plain": [
       "[1] \"OR4F5\"  \"OR4F29\" \"OR4F16\" \"SAMD11\" \"NOC2L\"  \"KLHL17\""
      ]
     },
     "metadata": {},
     "output_type": "display_data"
    },
    {
     "data": {
      "text/html": [
       "<table class=\"dataframe\">\n",
       "<caption>A data.table: 6 × 17383</caption>\n",
       "<thead>\n",
       "\t<tr><th scope=col>Description</th><th scope=col>GTEX-1117F-0226-SM-5GZZ7</th><th scope=col>GTEX-1117F-0426-SM-5EGHI</th><th scope=col>GTEX-1117F-0526-SM-5EGHJ</th><th scope=col>GTEX-1117F-0626-SM-5N9CS</th><th scope=col>GTEX-1117F-0726-SM-5GIEN</th><th scope=col>GTEX-1117F-1326-SM-5EGHH</th><th scope=col>GTEX-1117F-2426-SM-5EGGH</th><th scope=col>GTEX-1117F-2526-SM-5GZY6</th><th scope=col>GTEX-1117F-2826-SM-5GZXL</th><th scope=col>⋯</th><th scope=col>GTEX-ZZPU-1126-SM-5N9CW</th><th scope=col>GTEX-ZZPU-1226-SM-5N9CK</th><th scope=col>GTEX-ZZPU-1326-SM-5GZWS</th><th scope=col>GTEX-ZZPU-1426-SM-5GZZ6</th><th scope=col>GTEX-ZZPU-1826-SM-5E43L</th><th scope=col>GTEX-ZZPU-2126-SM-5EGIU</th><th scope=col>GTEX-ZZPU-2226-SM-5EGIV</th><th scope=col>GTEX-ZZPU-2426-SM-5E44I</th><th scope=col>GTEX-ZZPU-2626-SM-5E45Y</th><th scope=col>GTEX-ZZPU-2726-SM-5NQ8O</th></tr>\n",
       "\t<tr><th scope=col>&lt;chr&gt;</th><th scope=col>&lt;dbl&gt;</th><th scope=col>&lt;dbl&gt;</th><th scope=col>&lt;dbl&gt;</th><th scope=col>&lt;dbl&gt;</th><th scope=col>&lt;dbl&gt;</th><th scope=col>&lt;dbl&gt;</th><th scope=col>&lt;dbl&gt;</th><th scope=col>&lt;dbl&gt;</th><th scope=col>&lt;dbl&gt;</th><th scope=col>⋯</th><th scope=col>&lt;dbl&gt;</th><th scope=col>&lt;dbl&gt;</th><th scope=col>&lt;dbl&gt;</th><th scope=col>&lt;dbl&gt;</th><th scope=col>&lt;dbl&gt;</th><th scope=col>&lt;dbl&gt;</th><th scope=col>&lt;dbl&gt;</th><th scope=col>&lt;dbl&gt;</th><th scope=col>&lt;dbl&gt;</th><th scope=col>&lt;dbl&gt;</th></tr>\n",
       "</thead>\n",
       "<tbody>\n",
       "\t<tr><td>OR4F5 </td><td> 0.00000</td><td> 0.10250</td><td> 0.07434</td><td> 0.00</td><td> 0.04233</td><td> 0.05609</td><td> 0.17430</td><td> 0.00000</td><td> 0.00000</td><td>⋯</td><td> 0.12900</td><td> 0.13670</td><td> 0.05729</td><td> 0.12690</td><td> 0.11980</td><td> 0.06767</td><td> 0.11350</td><td> 0.0000</td><td> 0.1480</td><td> 0.00000</td></tr>\n",
       "\t<tr><td>OR4F29</td><td> 0.00000</td><td> 0.05009</td><td> 0.00000</td><td> 0.00</td><td> 0.00000</td><td> 0.05483</td><td> 0.08519</td><td> 0.05068</td><td> 0.19860</td><td>⋯</td><td> 0.00000</td><td> 0.03341</td><td> 0.11200</td><td> 0.00000</td><td> 0.11710</td><td> 0.00000</td><td> 0.05548</td><td> 0.1924</td><td> 0.1447</td><td> 0.00000</td></tr>\n",
       "\t<tr><td>OR4F16</td><td> 0.06628</td><td> 0.00000</td><td> 0.00000</td><td> 0.00</td><td> 0.04138</td><td> 0.00000</td><td> 0.00000</td><td> 0.00000</td><td> 0.04965</td><td>⋯</td><td> 0.03154</td><td> 0.03341</td><td> 0.00000</td><td> 0.04136</td><td> 0.07806</td><td> 0.19850</td><td> 0.16640</td><td> 0.0000</td><td> 0.0000</td><td> 0.04644</td></tr>\n",
       "\t<tr><td>SAMD11</td><td> 0.35980</td><td> 0.47600</td><td> 0.27620</td><td>12.03</td><td>11.39000</td><td> 1.71200</td><td>25.12000</td><td> 2.09100</td><td> 0.67390</td><td>⋯</td><td> 6.65200</td><td> 4.76100</td><td> 1.24700</td><td> 1.76300</td><td> 1.02800</td><td> 0.80820</td><td> 0.45190</td><td> 6.3460</td><td> 1.0510</td><td> 0.16390</td></tr>\n",
       "\t<tr><td>NOC2L </td><td>90.74000</td><td>93.56000</td><td>94.87000</td><td>67.60</td><td>26.52000</td><td>33.67000</td><td>85.62000</td><td>93.06000</td><td>64.54000</td><td>⋯</td><td>34.88000</td><td>42.61000</td><td>60.42000</td><td>41.23000</td><td>52.21000</td><td>55.73000</td><td>71.21000</td><td>58.7600</td><td>75.2200</td><td>39.30000</td></tr>\n",
       "\t<tr><td>KLHL17</td><td>10.86000</td><td> 1.11500</td><td> 6.68400</td><td>20.10</td><td> 6.50300</td><td> 8.79400</td><td>19.77000</td><td>25.61000</td><td>18.68000</td><td>⋯</td><td> 6.38100</td><td> 8.22500</td><td>20.48000</td><td> 9.94300</td><td> 9.00500</td><td> 2.22000</td><td> 8.50400</td><td> 7.6990</td><td> 2.7900</td><td> 7.94200</td></tr>\n",
       "</tbody>\n",
       "</table>\n"
      ],
      "text/latex": [
       "A data.table: 6 × 17383\n",
       "\\begin{tabular}{lllllllllllllllllllll}\n",
       " Description & GTEX-1117F-0226-SM-5GZZ7 & GTEX-1117F-0426-SM-5EGHI & GTEX-1117F-0526-SM-5EGHJ & GTEX-1117F-0626-SM-5N9CS & GTEX-1117F-0726-SM-5GIEN & GTEX-1117F-1326-SM-5EGHH & GTEX-1117F-2426-SM-5EGGH & GTEX-1117F-2526-SM-5GZY6 & GTEX-1117F-2826-SM-5GZXL & ⋯ & GTEX-ZZPU-1126-SM-5N9CW & GTEX-ZZPU-1226-SM-5N9CK & GTEX-ZZPU-1326-SM-5GZWS & GTEX-ZZPU-1426-SM-5GZZ6 & GTEX-ZZPU-1826-SM-5E43L & GTEX-ZZPU-2126-SM-5EGIU & GTEX-ZZPU-2226-SM-5EGIV & GTEX-ZZPU-2426-SM-5E44I & GTEX-ZZPU-2626-SM-5E45Y & GTEX-ZZPU-2726-SM-5NQ8O\\\\\n",
       " <chr> & <dbl> & <dbl> & <dbl> & <dbl> & <dbl> & <dbl> & <dbl> & <dbl> & <dbl> & ⋯ & <dbl> & <dbl> & <dbl> & <dbl> & <dbl> & <dbl> & <dbl> & <dbl> & <dbl> & <dbl>\\\\\n",
       "\\hline\n",
       "\t OR4F5  &  0.00000 &  0.10250 &  0.07434 &  0.00 &  0.04233 &  0.05609 &  0.17430 &  0.00000 &  0.00000 & ⋯ &  0.12900 &  0.13670 &  0.05729 &  0.12690 &  0.11980 &  0.06767 &  0.11350 &  0.0000 &  0.1480 &  0.00000\\\\\n",
       "\t OR4F29 &  0.00000 &  0.05009 &  0.00000 &  0.00 &  0.00000 &  0.05483 &  0.08519 &  0.05068 &  0.19860 & ⋯ &  0.00000 &  0.03341 &  0.11200 &  0.00000 &  0.11710 &  0.00000 &  0.05548 &  0.1924 &  0.1447 &  0.00000\\\\\n",
       "\t OR4F16 &  0.06628 &  0.00000 &  0.00000 &  0.00 &  0.04138 &  0.00000 &  0.00000 &  0.00000 &  0.04965 & ⋯ &  0.03154 &  0.03341 &  0.00000 &  0.04136 &  0.07806 &  0.19850 &  0.16640 &  0.0000 &  0.0000 &  0.04644\\\\\n",
       "\t SAMD11 &  0.35980 &  0.47600 &  0.27620 & 12.03 & 11.39000 &  1.71200 & 25.12000 &  2.09100 &  0.67390 & ⋯ &  6.65200 &  4.76100 &  1.24700 &  1.76300 &  1.02800 &  0.80820 &  0.45190 &  6.3460 &  1.0510 &  0.16390\\\\\n",
       "\t NOC2L  & 90.74000 & 93.56000 & 94.87000 & 67.60 & 26.52000 & 33.67000 & 85.62000 & 93.06000 & 64.54000 & ⋯ & 34.88000 & 42.61000 & 60.42000 & 41.23000 & 52.21000 & 55.73000 & 71.21000 & 58.7600 & 75.2200 & 39.30000\\\\\n",
       "\t KLHL17 & 10.86000 &  1.11500 &  6.68400 & 20.10 &  6.50300 &  8.79400 & 19.77000 & 25.61000 & 18.68000 & ⋯ &  6.38100 &  8.22500 & 20.48000 &  9.94300 &  9.00500 &  2.22000 &  8.50400 &  7.6990 &  2.7900 &  7.94200\\\\\n",
       "\\end{tabular}\n"
      ],
      "text/markdown": [
       "\n",
       "A data.table: 6 × 17383\n",
       "\n",
       "| Description &lt;chr&gt; | GTEX-1117F-0226-SM-5GZZ7 &lt;dbl&gt; | GTEX-1117F-0426-SM-5EGHI &lt;dbl&gt; | GTEX-1117F-0526-SM-5EGHJ &lt;dbl&gt; | GTEX-1117F-0626-SM-5N9CS &lt;dbl&gt; | GTEX-1117F-0726-SM-5GIEN &lt;dbl&gt; | GTEX-1117F-1326-SM-5EGHH &lt;dbl&gt; | GTEX-1117F-2426-SM-5EGGH &lt;dbl&gt; | GTEX-1117F-2526-SM-5GZY6 &lt;dbl&gt; | GTEX-1117F-2826-SM-5GZXL &lt;dbl&gt; | ⋯ ⋯ | GTEX-ZZPU-1126-SM-5N9CW &lt;dbl&gt; | GTEX-ZZPU-1226-SM-5N9CK &lt;dbl&gt; | GTEX-ZZPU-1326-SM-5GZWS &lt;dbl&gt; | GTEX-ZZPU-1426-SM-5GZZ6 &lt;dbl&gt; | GTEX-ZZPU-1826-SM-5E43L &lt;dbl&gt; | GTEX-ZZPU-2126-SM-5EGIU &lt;dbl&gt; | GTEX-ZZPU-2226-SM-5EGIV &lt;dbl&gt; | GTEX-ZZPU-2426-SM-5E44I &lt;dbl&gt; | GTEX-ZZPU-2626-SM-5E45Y &lt;dbl&gt; | GTEX-ZZPU-2726-SM-5NQ8O &lt;dbl&gt; |\n",
       "|---|---|---|---|---|---|---|---|---|---|---|---|---|---|---|---|---|---|---|---|---|\n",
       "| OR4F5  |  0.00000 |  0.10250 |  0.07434 |  0.00 |  0.04233 |  0.05609 |  0.17430 |  0.00000 |  0.00000 | ⋯ |  0.12900 |  0.13670 |  0.05729 |  0.12690 |  0.11980 |  0.06767 |  0.11350 |  0.0000 |  0.1480 |  0.00000 |\n",
       "| OR4F29 |  0.00000 |  0.05009 |  0.00000 |  0.00 |  0.00000 |  0.05483 |  0.08519 |  0.05068 |  0.19860 | ⋯ |  0.00000 |  0.03341 |  0.11200 |  0.00000 |  0.11710 |  0.00000 |  0.05548 |  0.1924 |  0.1447 |  0.00000 |\n",
       "| OR4F16 |  0.06628 |  0.00000 |  0.00000 |  0.00 |  0.04138 |  0.00000 |  0.00000 |  0.00000 |  0.04965 | ⋯ |  0.03154 |  0.03341 |  0.00000 |  0.04136 |  0.07806 |  0.19850 |  0.16640 |  0.0000 |  0.0000 |  0.04644 |\n",
       "| SAMD11 |  0.35980 |  0.47600 |  0.27620 | 12.03 | 11.39000 |  1.71200 | 25.12000 |  2.09100 |  0.67390 | ⋯ |  6.65200 |  4.76100 |  1.24700 |  1.76300 |  1.02800 |  0.80820 |  0.45190 |  6.3460 |  1.0510 |  0.16390 |\n",
       "| NOC2L  | 90.74000 | 93.56000 | 94.87000 | 67.60 | 26.52000 | 33.67000 | 85.62000 | 93.06000 | 64.54000 | ⋯ | 34.88000 | 42.61000 | 60.42000 | 41.23000 | 52.21000 | 55.73000 | 71.21000 | 58.7600 | 75.2200 | 39.30000 |\n",
       "| KLHL17 | 10.86000 |  1.11500 |  6.68400 | 20.10 |  6.50300 |  8.79400 | 19.77000 | 25.61000 | 18.68000 | ⋯ |  6.38100 |  8.22500 | 20.48000 |  9.94300 |  9.00500 |  2.22000 |  8.50400 |  7.6990 |  2.7900 |  7.94200 |\n",
       "\n"
      ],
      "text/plain": [
       "  Description GTEX-1117F-0226-SM-5GZZ7 GTEX-1117F-0426-SM-5EGHI\n",
       "1 OR4F5        0.00000                  0.10250                \n",
       "2 OR4F29       0.00000                  0.05009                \n",
       "3 OR4F16       0.06628                  0.00000                \n",
       "4 SAMD11       0.35980                  0.47600                \n",
       "5 NOC2L       90.74000                 93.56000                \n",
       "6 KLHL17      10.86000                  1.11500                \n",
       "  GTEX-1117F-0526-SM-5EGHJ GTEX-1117F-0626-SM-5N9CS GTEX-1117F-0726-SM-5GIEN\n",
       "1  0.07434                  0.00                     0.04233                \n",
       "2  0.00000                  0.00                     0.00000                \n",
       "3  0.00000                  0.00                     0.04138                \n",
       "4  0.27620                 12.03                    11.39000                \n",
       "5 94.87000                 67.60                    26.52000                \n",
       "6  6.68400                 20.10                     6.50300                \n",
       "  GTEX-1117F-1326-SM-5EGHH GTEX-1117F-2426-SM-5EGGH GTEX-1117F-2526-SM-5GZY6\n",
       "1  0.05609                  0.17430                  0.00000                \n",
       "2  0.05483                  0.08519                  0.05068                \n",
       "3  0.00000                  0.00000                  0.00000                \n",
       "4  1.71200                 25.12000                  2.09100                \n",
       "5 33.67000                 85.62000                 93.06000                \n",
       "6  8.79400                 19.77000                 25.61000                \n",
       "  GTEX-1117F-2826-SM-5GZXL ⋯ GTEX-ZZPU-1126-SM-5N9CW GTEX-ZZPU-1226-SM-5N9CK\n",
       "1  0.00000                 ⋯  0.12900                 0.13670               \n",
       "2  0.19860                 ⋯  0.00000                 0.03341               \n",
       "3  0.04965                 ⋯  0.03154                 0.03341               \n",
       "4  0.67390                 ⋯  6.65200                 4.76100               \n",
       "5 64.54000                 ⋯ 34.88000                42.61000               \n",
       "6 18.68000                 ⋯  6.38100                 8.22500               \n",
       "  GTEX-ZZPU-1326-SM-5GZWS GTEX-ZZPU-1426-SM-5GZZ6 GTEX-ZZPU-1826-SM-5E43L\n",
       "1  0.05729                 0.12690                 0.11980               \n",
       "2  0.11200                 0.00000                 0.11710               \n",
       "3  0.00000                 0.04136                 0.07806               \n",
       "4  1.24700                 1.76300                 1.02800               \n",
       "5 60.42000                41.23000                52.21000               \n",
       "6 20.48000                 9.94300                 9.00500               \n",
       "  GTEX-ZZPU-2126-SM-5EGIU GTEX-ZZPU-2226-SM-5EGIV GTEX-ZZPU-2426-SM-5E44I\n",
       "1  0.06767                 0.11350                 0.0000                \n",
       "2  0.00000                 0.05548                 0.1924                \n",
       "3  0.19850                 0.16640                 0.0000                \n",
       "4  0.80820                 0.45190                 6.3460                \n",
       "5 55.73000                71.21000                58.7600                \n",
       "6  2.22000                 8.50400                 7.6990                \n",
       "  GTEX-ZZPU-2626-SM-5E45Y GTEX-ZZPU-2726-SM-5NQ8O\n",
       "1  0.1480                  0.00000               \n",
       "2  0.1447                  0.00000               \n",
       "3  0.0000                  0.04644               \n",
       "4  1.0510                  0.16390               \n",
       "5 75.2200                 39.30000               \n",
       "6  2.7900                  7.94200               "
      ]
     },
     "metadata": {},
     "output_type": "display_data"
    }
   ],
   "source": [
    "# The names of the rows are assigned with the names of the genes \n",
    "\n",
    "rownames(a) = a$Description \n",
    "head(rownames(a))\n",
    "head(a)"
   ]
  },
  {
   "cell_type": "code",
   "execution_count": 36,
   "id": "ba600aa8",
   "metadata": {},
   "outputs": [],
   "source": [
    "# b is a backup data frame for a, although it increases the resources that are needed for computation\n",
    "b = a"
   ]
  },
  {
   "cell_type": "code",
   "execution_count": 37,
   "id": "e1c027ec",
   "metadata": {},
   "outputs": [
    {
     "data": {
      "text/html": [
       "<style>\n",
       ".list-inline {list-style: none; margin:0; padding: 0}\n",
       ".list-inline>li {display: inline-block}\n",
       ".list-inline>li:not(:last-child)::after {content: \"\\00b7\"; padding: 0 .5ex}\n",
       "</style>\n",
       "<ol class=list-inline><li>'OR4F5'</li><li>'OR4F29'</li><li>'OR4F16'</li><li>'SAMD11'</li><li>'NOC2L'</li><li>'KLHL17'</li></ol>\n"
      ],
      "text/latex": [
       "\\begin{enumerate*}\n",
       "\\item 'OR4F5'\n",
       "\\item 'OR4F29'\n",
       "\\item 'OR4F16'\n",
       "\\item 'SAMD11'\n",
       "\\item 'NOC2L'\n",
       "\\item 'KLHL17'\n",
       "\\end{enumerate*}\n"
      ],
      "text/markdown": [
       "1. 'OR4F5'\n",
       "2. 'OR4F29'\n",
       "3. 'OR4F16'\n",
       "4. 'SAMD11'\n",
       "5. 'NOC2L'\n",
       "6. 'KLHL17'\n",
       "\n",
       "\n"
      ],
      "text/plain": [
       "[1] \"OR4F5\"  \"OR4F29\" \"OR4F16\" \"SAMD11\" \"NOC2L\"  \"KLHL17\""
      ]
     },
     "metadata": {},
     "output_type": "display_data"
    },
    {
     "data": {
      "text/html": [
       "<style>\n",
       ".list-inline {list-style: none; margin:0; padding: 0}\n",
       ".list-inline>li {display: inline-block}\n",
       ".list-inline>li:not(:last-child)::after {content: \"\\00b7\"; padding: 0 .5ex}\n",
       "</style>\n",
       "<ol class=list-inline><li>'OR4F5'</li><li>'OR4F29'</li><li>'OR4F16'</li><li>'SAMD11'</li><li>'NOC2L'</li><li>'KLHL17'</li></ol>\n"
      ],
      "text/latex": [
       "\\begin{enumerate*}\n",
       "\\item 'OR4F5'\n",
       "\\item 'OR4F29'\n",
       "\\item 'OR4F16'\n",
       "\\item 'SAMD11'\n",
       "\\item 'NOC2L'\n",
       "\\item 'KLHL17'\n",
       "\\end{enumerate*}\n"
      ],
      "text/markdown": [
       "1. 'OR4F5'\n",
       "2. 'OR4F29'\n",
       "3. 'OR4F16'\n",
       "4. 'SAMD11'\n",
       "5. 'NOC2L'\n",
       "6. 'KLHL17'\n",
       "\n",
       "\n"
      ],
      "text/plain": [
       "[1] \"OR4F5\"  \"OR4F29\" \"OR4F16\" \"SAMD11\" \"NOC2L\"  \"KLHL17\""
      ]
     },
     "metadata": {},
     "output_type": "display_data"
    },
    {
     "data": {
      "text/html": [
       "<style>\n",
       ".list-inline {list-style: none; margin:0; padding: 0}\n",
       ".list-inline>li {display: inline-block}\n",
       ".list-inline>li:not(:last-child)::after {content: \"\\00b7\"; padding: 0 .5ex}\n",
       "</style>\n",
       "<ol class=list-inline><li>'Description'</li><li>'GTEX-1117F-0226-SM-5GZZ7'</li><li>'GTEX-1117F-0426-SM-5EGHI'</li><li>'GTEX-1117F-0526-SM-5EGHJ'</li><li>'GTEX-1117F-0626-SM-5N9CS'</li><li>'GTEX-1117F-0726-SM-5GIEN'</li></ol>\n"
      ],
      "text/latex": [
       "\\begin{enumerate*}\n",
       "\\item 'Description'\n",
       "\\item 'GTEX-1117F-0226-SM-5GZZ7'\n",
       "\\item 'GTEX-1117F-0426-SM-5EGHI'\n",
       "\\item 'GTEX-1117F-0526-SM-5EGHJ'\n",
       "\\item 'GTEX-1117F-0626-SM-5N9CS'\n",
       "\\item 'GTEX-1117F-0726-SM-5GIEN'\n",
       "\\end{enumerate*}\n"
      ],
      "text/markdown": [
       "1. 'Description'\n",
       "2. 'GTEX-1117F-0226-SM-5GZZ7'\n",
       "3. 'GTEX-1117F-0426-SM-5EGHI'\n",
       "4. 'GTEX-1117F-0526-SM-5EGHJ'\n",
       "5. 'GTEX-1117F-0626-SM-5N9CS'\n",
       "6. 'GTEX-1117F-0726-SM-5GIEN'\n",
       "\n",
       "\n"
      ],
      "text/plain": [
       "[1] \"Description\"              \"GTEX-1117F-0226-SM-5GZZ7\"\n",
       "[3] \"GTEX-1117F-0426-SM-5EGHI\" \"GTEX-1117F-0526-SM-5EGHJ\"\n",
       "[5] \"GTEX-1117F-0626-SM-5N9CS\" \"GTEX-1117F-0726-SM-5GIEN\""
      ]
     },
     "metadata": {},
     "output_type": "display_data"
    }
   ],
   "source": [
    "# we use data frame c in order to operate further changes in the data frame b\n",
    "\n",
    "head(b$Description)\n",
    "head(rownames(b))\n",
    "head(names(b))"
   ]
  },
  {
   "cell_type": "code",
   "execution_count": 39,
   "id": "f4c1b8a4",
   "metadata": {},
   "outputs": [
    {
     "data": {
      "text/html": [
       "<style>\n",
       ".list-inline {list-style: none; margin:0; padding: 0}\n",
       ".list-inline>li {display: inline-block}\n",
       ".list-inline>li:not(:last-child)::after {content: \"\\00b7\"; padding: 0 .5ex}\n",
       "</style>\n",
       "<ol class=list-inline><li>'OR4F5'</li><li>'OR4F29'</li><li>'OR4F16'</li><li>'SAMD11'</li><li>'NOC2L'</li><li>'KLHL17'</li></ol>\n"
      ],
      "text/latex": [
       "\\begin{enumerate*}\n",
       "\\item 'OR4F5'\n",
       "\\item 'OR4F29'\n",
       "\\item 'OR4F16'\n",
       "\\item 'SAMD11'\n",
       "\\item 'NOC2L'\n",
       "\\item 'KLHL17'\n",
       "\\end{enumerate*}\n"
      ],
      "text/markdown": [
       "1. 'OR4F5'\n",
       "2. 'OR4F29'\n",
       "3. 'OR4F16'\n",
       "4. 'SAMD11'\n",
       "5. 'NOC2L'\n",
       "6. 'KLHL17'\n",
       "\n",
       "\n"
      ],
      "text/plain": [
       "[1] \"OR4F5\"  \"OR4F29\" \"OR4F16\" \"SAMD11\" \"NOC2L\"  \"KLHL17\""
      ]
     },
     "metadata": {},
     "output_type": "display_data"
    },
    {
     "data": {
      "text/html": [
       "<style>\n",
       ".list-inline {list-style: none; margin:0; padding: 0}\n",
       ".list-inline>li {display: inline-block}\n",
       ".list-inline>li:not(:last-child)::after {content: \"\\00b7\"; padding: 0 .5ex}\n",
       "</style>\n",
       "<ol class=list-inline><li>'GTEX-1117F-0226-SM-5GZZ7'</li><li>'GTEX-1117F-0426-SM-5EGHI'</li><li>'GTEX-1117F-0526-SM-5EGHJ'</li><li>'GTEX-1117F-0626-SM-5N9CS'</li><li>'GTEX-1117F-0726-SM-5GIEN'</li><li>'GTEX-1117F-1326-SM-5EGHH'</li></ol>\n"
      ],
      "text/latex": [
       "\\begin{enumerate*}\n",
       "\\item 'GTEX-1117F-0226-SM-5GZZ7'\n",
       "\\item 'GTEX-1117F-0426-SM-5EGHI'\n",
       "\\item 'GTEX-1117F-0526-SM-5EGHJ'\n",
       "\\item 'GTEX-1117F-0626-SM-5N9CS'\n",
       "\\item 'GTEX-1117F-0726-SM-5GIEN'\n",
       "\\item 'GTEX-1117F-1326-SM-5EGHH'\n",
       "\\end{enumerate*}\n"
      ],
      "text/markdown": [
       "1. 'GTEX-1117F-0226-SM-5GZZ7'\n",
       "2. 'GTEX-1117F-0426-SM-5EGHI'\n",
       "3. 'GTEX-1117F-0526-SM-5EGHJ'\n",
       "4. 'GTEX-1117F-0626-SM-5N9CS'\n",
       "5. 'GTEX-1117F-0726-SM-5GIEN'\n",
       "6. 'GTEX-1117F-1326-SM-5EGHH'\n",
       "\n",
       "\n"
      ],
      "text/plain": [
       "[1] \"GTEX-1117F-0226-SM-5GZZ7\" \"GTEX-1117F-0426-SM-5EGHI\"\n",
       "[3] \"GTEX-1117F-0526-SM-5EGHJ\" \"GTEX-1117F-0626-SM-5N9CS\"\n",
       "[5] \"GTEX-1117F-0726-SM-5GIEN\" \"GTEX-1117F-1326-SM-5EGHH\""
      ]
     },
     "metadata": {},
     "output_type": "display_data"
    },
    {
     "data": {
      "text/html": [
       "<style>\n",
       ".list-inline {list-style: none; margin:0; padding: 0}\n",
       ".list-inline>li {display: inline-block}\n",
       ".list-inline>li:not(:last-child)::after {content: \"\\00b7\"; padding: 0 .5ex}\n",
       "</style>\n",
       "<ol class=list-inline><li>18446</li><li>17382</li></ol>\n"
      ],
      "text/latex": [
       "\\begin{enumerate*}\n",
       "\\item 18446\n",
       "\\item 17382\n",
       "\\end{enumerate*}\n"
      ],
      "text/markdown": [
       "1. 18446\n",
       "2. 17382\n",
       "\n",
       "\n"
      ],
      "text/plain": [
       "[1] 18446 17382"
      ]
     },
     "metadata": {},
     "output_type": "display_data"
    },
    {
     "data": {
      "text/html": [
       "<table class=\"dataframe\">\n",
       "<caption>A data.table: 6 × 17382</caption>\n",
       "<thead>\n",
       "\t<tr><th scope=col>GTEX-1117F-0226-SM-5GZZ7</th><th scope=col>GTEX-1117F-0426-SM-5EGHI</th><th scope=col>GTEX-1117F-0526-SM-5EGHJ</th><th scope=col>GTEX-1117F-0626-SM-5N9CS</th><th scope=col>GTEX-1117F-0726-SM-5GIEN</th><th scope=col>GTEX-1117F-1326-SM-5EGHH</th><th scope=col>GTEX-1117F-2426-SM-5EGGH</th><th scope=col>GTEX-1117F-2526-SM-5GZY6</th><th scope=col>GTEX-1117F-2826-SM-5GZXL</th><th scope=col>GTEX-1117F-2926-SM-5GZYI</th><th scope=col>⋯</th><th scope=col>GTEX-ZZPU-1126-SM-5N9CW</th><th scope=col>GTEX-ZZPU-1226-SM-5N9CK</th><th scope=col>GTEX-ZZPU-1326-SM-5GZWS</th><th scope=col>GTEX-ZZPU-1426-SM-5GZZ6</th><th scope=col>GTEX-ZZPU-1826-SM-5E43L</th><th scope=col>GTEX-ZZPU-2126-SM-5EGIU</th><th scope=col>GTEX-ZZPU-2226-SM-5EGIV</th><th scope=col>GTEX-ZZPU-2426-SM-5E44I</th><th scope=col>GTEX-ZZPU-2626-SM-5E45Y</th><th scope=col>GTEX-ZZPU-2726-SM-5NQ8O</th></tr>\n",
       "\t<tr><th scope=col>&lt;dbl&gt;</th><th scope=col>&lt;dbl&gt;</th><th scope=col>&lt;dbl&gt;</th><th scope=col>&lt;dbl&gt;</th><th scope=col>&lt;dbl&gt;</th><th scope=col>&lt;dbl&gt;</th><th scope=col>&lt;dbl&gt;</th><th scope=col>&lt;dbl&gt;</th><th scope=col>&lt;dbl&gt;</th><th scope=col>&lt;dbl&gt;</th><th scope=col>⋯</th><th scope=col>&lt;dbl&gt;</th><th scope=col>&lt;dbl&gt;</th><th scope=col>&lt;dbl&gt;</th><th scope=col>&lt;dbl&gt;</th><th scope=col>&lt;dbl&gt;</th><th scope=col>&lt;dbl&gt;</th><th scope=col>&lt;dbl&gt;</th><th scope=col>&lt;dbl&gt;</th><th scope=col>&lt;dbl&gt;</th><th scope=col>&lt;dbl&gt;</th></tr>\n",
       "</thead>\n",
       "<tbody>\n",
       "\t<tr><td> 0.00000</td><td> 0.10250</td><td> 0.07434</td><td> 0.00</td><td> 0.04233</td><td> 0.05609</td><td> 0.17430</td><td> 0.00000</td><td> 0.00000</td><td> 0.0591</td><td>⋯</td><td> 0.12900</td><td> 0.13670</td><td> 0.05729</td><td> 0.12690</td><td> 0.11980</td><td> 0.06767</td><td> 0.11350</td><td> 0.0000</td><td> 0.1480</td><td> 0.00000</td></tr>\n",
       "\t<tr><td> 0.00000</td><td> 0.05009</td><td> 0.00000</td><td> 0.00</td><td> 0.00000</td><td> 0.05483</td><td> 0.08519</td><td> 0.05068</td><td> 0.19860</td><td> 0.0000</td><td>⋯</td><td> 0.00000</td><td> 0.03341</td><td> 0.11200</td><td> 0.00000</td><td> 0.11710</td><td> 0.00000</td><td> 0.05548</td><td> 0.1924</td><td> 0.1447</td><td> 0.00000</td></tr>\n",
       "\t<tr><td> 0.06628</td><td> 0.00000</td><td> 0.00000</td><td> 0.00</td><td> 0.04138</td><td> 0.00000</td><td> 0.00000</td><td> 0.00000</td><td> 0.04965</td><td> 0.0000</td><td>⋯</td><td> 0.03154</td><td> 0.03341</td><td> 0.00000</td><td> 0.04136</td><td> 0.07806</td><td> 0.19850</td><td> 0.16640</td><td> 0.0000</td><td> 0.0000</td><td> 0.04644</td></tr>\n",
       "\t<tr><td> 0.35980</td><td> 0.47600</td><td> 0.27620</td><td>12.03</td><td>11.39000</td><td> 1.71200</td><td>25.12000</td><td> 2.09100</td><td> 0.67390</td><td> 0.6117</td><td>⋯</td><td> 6.65200</td><td> 4.76100</td><td> 1.24700</td><td> 1.76300</td><td> 1.02800</td><td> 0.80820</td><td> 0.45190</td><td> 6.3460</td><td> 1.0510</td><td> 0.16390</td></tr>\n",
       "\t<tr><td>90.74000</td><td>93.56000</td><td>94.87000</td><td>67.60</td><td>26.52000</td><td>33.67000</td><td>85.62000</td><td>93.06000</td><td>64.54000</td><td>80.9500</td><td>⋯</td><td>34.88000</td><td>42.61000</td><td>60.42000</td><td>41.23000</td><td>52.21000</td><td>55.73000</td><td>71.21000</td><td>58.7600</td><td>75.2200</td><td>39.30000</td></tr>\n",
       "\t<tr><td>10.86000</td><td> 1.11500</td><td> 6.68400</td><td>20.10</td><td> 6.50300</td><td> 8.79400</td><td>19.77000</td><td>25.61000</td><td>18.68000</td><td>27.9500</td><td>⋯</td><td> 6.38100</td><td> 8.22500</td><td>20.48000</td><td> 9.94300</td><td> 9.00500</td><td> 2.22000</td><td> 8.50400</td><td> 7.6990</td><td> 2.7900</td><td> 7.94200</td></tr>\n",
       "</tbody>\n",
       "</table>\n"
      ],
      "text/latex": [
       "A data.table: 6 × 17382\n",
       "\\begin{tabular}{lllllllllllllllllllll}\n",
       " GTEX-1117F-0226-SM-5GZZ7 & GTEX-1117F-0426-SM-5EGHI & GTEX-1117F-0526-SM-5EGHJ & GTEX-1117F-0626-SM-5N9CS & GTEX-1117F-0726-SM-5GIEN & GTEX-1117F-1326-SM-5EGHH & GTEX-1117F-2426-SM-5EGGH & GTEX-1117F-2526-SM-5GZY6 & GTEX-1117F-2826-SM-5GZXL & GTEX-1117F-2926-SM-5GZYI & ⋯ & GTEX-ZZPU-1126-SM-5N9CW & GTEX-ZZPU-1226-SM-5N9CK & GTEX-ZZPU-1326-SM-5GZWS & GTEX-ZZPU-1426-SM-5GZZ6 & GTEX-ZZPU-1826-SM-5E43L & GTEX-ZZPU-2126-SM-5EGIU & GTEX-ZZPU-2226-SM-5EGIV & GTEX-ZZPU-2426-SM-5E44I & GTEX-ZZPU-2626-SM-5E45Y & GTEX-ZZPU-2726-SM-5NQ8O\\\\\n",
       " <dbl> & <dbl> & <dbl> & <dbl> & <dbl> & <dbl> & <dbl> & <dbl> & <dbl> & <dbl> & ⋯ & <dbl> & <dbl> & <dbl> & <dbl> & <dbl> & <dbl> & <dbl> & <dbl> & <dbl> & <dbl>\\\\\n",
       "\\hline\n",
       "\t  0.00000 &  0.10250 &  0.07434 &  0.00 &  0.04233 &  0.05609 &  0.17430 &  0.00000 &  0.00000 &  0.0591 & ⋯ &  0.12900 &  0.13670 &  0.05729 &  0.12690 &  0.11980 &  0.06767 &  0.11350 &  0.0000 &  0.1480 &  0.00000\\\\\n",
       "\t  0.00000 &  0.05009 &  0.00000 &  0.00 &  0.00000 &  0.05483 &  0.08519 &  0.05068 &  0.19860 &  0.0000 & ⋯ &  0.00000 &  0.03341 &  0.11200 &  0.00000 &  0.11710 &  0.00000 &  0.05548 &  0.1924 &  0.1447 &  0.00000\\\\\n",
       "\t  0.06628 &  0.00000 &  0.00000 &  0.00 &  0.04138 &  0.00000 &  0.00000 &  0.00000 &  0.04965 &  0.0000 & ⋯ &  0.03154 &  0.03341 &  0.00000 &  0.04136 &  0.07806 &  0.19850 &  0.16640 &  0.0000 &  0.0000 &  0.04644\\\\\n",
       "\t  0.35980 &  0.47600 &  0.27620 & 12.03 & 11.39000 &  1.71200 & 25.12000 &  2.09100 &  0.67390 &  0.6117 & ⋯ &  6.65200 &  4.76100 &  1.24700 &  1.76300 &  1.02800 &  0.80820 &  0.45190 &  6.3460 &  1.0510 &  0.16390\\\\\n",
       "\t 90.74000 & 93.56000 & 94.87000 & 67.60 & 26.52000 & 33.67000 & 85.62000 & 93.06000 & 64.54000 & 80.9500 & ⋯ & 34.88000 & 42.61000 & 60.42000 & 41.23000 & 52.21000 & 55.73000 & 71.21000 & 58.7600 & 75.2200 & 39.30000\\\\\n",
       "\t 10.86000 &  1.11500 &  6.68400 & 20.10 &  6.50300 &  8.79400 & 19.77000 & 25.61000 & 18.68000 & 27.9500 & ⋯ &  6.38100 &  8.22500 & 20.48000 &  9.94300 &  9.00500 &  2.22000 &  8.50400 &  7.6990 &  2.7900 &  7.94200\\\\\n",
       "\\end{tabular}\n"
      ],
      "text/markdown": [
       "\n",
       "A data.table: 6 × 17382\n",
       "\n",
       "| GTEX-1117F-0226-SM-5GZZ7 &lt;dbl&gt; | GTEX-1117F-0426-SM-5EGHI &lt;dbl&gt; | GTEX-1117F-0526-SM-5EGHJ &lt;dbl&gt; | GTEX-1117F-0626-SM-5N9CS &lt;dbl&gt; | GTEX-1117F-0726-SM-5GIEN &lt;dbl&gt; | GTEX-1117F-1326-SM-5EGHH &lt;dbl&gt; | GTEX-1117F-2426-SM-5EGGH &lt;dbl&gt; | GTEX-1117F-2526-SM-5GZY6 &lt;dbl&gt; | GTEX-1117F-2826-SM-5GZXL &lt;dbl&gt; | GTEX-1117F-2926-SM-5GZYI &lt;dbl&gt; | ⋯ ⋯ | GTEX-ZZPU-1126-SM-5N9CW &lt;dbl&gt; | GTEX-ZZPU-1226-SM-5N9CK &lt;dbl&gt; | GTEX-ZZPU-1326-SM-5GZWS &lt;dbl&gt; | GTEX-ZZPU-1426-SM-5GZZ6 &lt;dbl&gt; | GTEX-ZZPU-1826-SM-5E43L &lt;dbl&gt; | GTEX-ZZPU-2126-SM-5EGIU &lt;dbl&gt; | GTEX-ZZPU-2226-SM-5EGIV &lt;dbl&gt; | GTEX-ZZPU-2426-SM-5E44I &lt;dbl&gt; | GTEX-ZZPU-2626-SM-5E45Y &lt;dbl&gt; | GTEX-ZZPU-2726-SM-5NQ8O &lt;dbl&gt; |\n",
       "|---|---|---|---|---|---|---|---|---|---|---|---|---|---|---|---|---|---|---|---|---|\n",
       "|  0.00000 |  0.10250 |  0.07434 |  0.00 |  0.04233 |  0.05609 |  0.17430 |  0.00000 |  0.00000 |  0.0591 | ⋯ |  0.12900 |  0.13670 |  0.05729 |  0.12690 |  0.11980 |  0.06767 |  0.11350 |  0.0000 |  0.1480 |  0.00000 |\n",
       "|  0.00000 |  0.05009 |  0.00000 |  0.00 |  0.00000 |  0.05483 |  0.08519 |  0.05068 |  0.19860 |  0.0000 | ⋯ |  0.00000 |  0.03341 |  0.11200 |  0.00000 |  0.11710 |  0.00000 |  0.05548 |  0.1924 |  0.1447 |  0.00000 |\n",
       "|  0.06628 |  0.00000 |  0.00000 |  0.00 |  0.04138 |  0.00000 |  0.00000 |  0.00000 |  0.04965 |  0.0000 | ⋯ |  0.03154 |  0.03341 |  0.00000 |  0.04136 |  0.07806 |  0.19850 |  0.16640 |  0.0000 |  0.0000 |  0.04644 |\n",
       "|  0.35980 |  0.47600 |  0.27620 | 12.03 | 11.39000 |  1.71200 | 25.12000 |  2.09100 |  0.67390 |  0.6117 | ⋯ |  6.65200 |  4.76100 |  1.24700 |  1.76300 |  1.02800 |  0.80820 |  0.45190 |  6.3460 |  1.0510 |  0.16390 |\n",
       "| 90.74000 | 93.56000 | 94.87000 | 67.60 | 26.52000 | 33.67000 | 85.62000 | 93.06000 | 64.54000 | 80.9500 | ⋯ | 34.88000 | 42.61000 | 60.42000 | 41.23000 | 52.21000 | 55.73000 | 71.21000 | 58.7600 | 75.2200 | 39.30000 |\n",
       "| 10.86000 |  1.11500 |  6.68400 | 20.10 |  6.50300 |  8.79400 | 19.77000 | 25.61000 | 18.68000 | 27.9500 | ⋯ |  6.38100 |  8.22500 | 20.48000 |  9.94300 |  9.00500 |  2.22000 |  8.50400 |  7.6990 |  2.7900 |  7.94200 |\n",
       "\n"
      ],
      "text/plain": [
       "  GTEX-1117F-0226-SM-5GZZ7 GTEX-1117F-0426-SM-5EGHI GTEX-1117F-0526-SM-5EGHJ\n",
       "1  0.00000                  0.10250                  0.07434                \n",
       "2  0.00000                  0.05009                  0.00000                \n",
       "3  0.06628                  0.00000                  0.00000                \n",
       "4  0.35980                  0.47600                  0.27620                \n",
       "5 90.74000                 93.56000                 94.87000                \n",
       "6 10.86000                  1.11500                  6.68400                \n",
       "  GTEX-1117F-0626-SM-5N9CS GTEX-1117F-0726-SM-5GIEN GTEX-1117F-1326-SM-5EGHH\n",
       "1  0.00                     0.04233                  0.05609                \n",
       "2  0.00                     0.00000                  0.05483                \n",
       "3  0.00                     0.04138                  0.00000                \n",
       "4 12.03                    11.39000                  1.71200                \n",
       "5 67.60                    26.52000                 33.67000                \n",
       "6 20.10                     6.50300                  8.79400                \n",
       "  GTEX-1117F-2426-SM-5EGGH GTEX-1117F-2526-SM-5GZY6 GTEX-1117F-2826-SM-5GZXL\n",
       "1  0.17430                  0.00000                  0.00000                \n",
       "2  0.08519                  0.05068                  0.19860                \n",
       "3  0.00000                  0.00000                  0.04965                \n",
       "4 25.12000                  2.09100                  0.67390                \n",
       "5 85.62000                 93.06000                 64.54000                \n",
       "6 19.77000                 25.61000                 18.68000                \n",
       "  GTEX-1117F-2926-SM-5GZYI ⋯ GTEX-ZZPU-1126-SM-5N9CW GTEX-ZZPU-1226-SM-5N9CK\n",
       "1  0.0591                  ⋯  0.12900                 0.13670               \n",
       "2  0.0000                  ⋯  0.00000                 0.03341               \n",
       "3  0.0000                  ⋯  0.03154                 0.03341               \n",
       "4  0.6117                  ⋯  6.65200                 4.76100               \n",
       "5 80.9500                  ⋯ 34.88000                42.61000               \n",
       "6 27.9500                  ⋯  6.38100                 8.22500               \n",
       "  GTEX-ZZPU-1326-SM-5GZWS GTEX-ZZPU-1426-SM-5GZZ6 GTEX-ZZPU-1826-SM-5E43L\n",
       "1  0.05729                 0.12690                 0.11980               \n",
       "2  0.11200                 0.00000                 0.11710               \n",
       "3  0.00000                 0.04136                 0.07806               \n",
       "4  1.24700                 1.76300                 1.02800               \n",
       "5 60.42000                41.23000                52.21000               \n",
       "6 20.48000                 9.94300                 9.00500               \n",
       "  GTEX-ZZPU-2126-SM-5EGIU GTEX-ZZPU-2226-SM-5EGIV GTEX-ZZPU-2426-SM-5E44I\n",
       "1  0.06767                 0.11350                 0.0000                \n",
       "2  0.00000                 0.05548                 0.1924                \n",
       "3  0.19850                 0.16640                 0.0000                \n",
       "4  0.80820                 0.45190                 6.3460                \n",
       "5 55.73000                71.21000                58.7600                \n",
       "6  2.22000                 8.50400                 7.6990                \n",
       "  GTEX-ZZPU-2626-SM-5E45Y GTEX-ZZPU-2726-SM-5NQ8O\n",
       "1  0.1480                  0.00000               \n",
       "2  0.1447                  0.00000               \n",
       "3  0.0000                  0.04644               \n",
       "4  1.0510                  0.16390               \n",
       "5 75.2200                 39.30000               \n",
       "6  2.7900                  7.94200               "
      ]
     },
     "metadata": {},
     "output_type": "display_data"
    }
   ],
   "source": [
    "c = b %>% select(-Description)\n",
    "head(rownames(c))\n",
    "head(colnames(c))\n",
    "dim(c)\n",
    "head(c)"
   ]
  },
  {
   "cell_type": "code",
   "execution_count": 40,
   "id": "9d01ab78",
   "metadata": {},
   "outputs": [
    {
     "data": {
      "text/html": [
       "<table class=\"dataframe\">\n",
       "<caption>A data.frame: 6 × 4</caption>\n",
       "<thead>\n",
       "\t<tr><th></th><th scope=col>V1</th><th scope=col>V2</th><th scope=col>V3</th><th scope=col>V4</th></tr>\n",
       "\t<tr><th></th><th scope=col>&lt;chr&gt;</th><th scope=col>&lt;chr&gt;</th><th scope=col>&lt;chr&gt;</th><th scope=col>&lt;chr&gt;</th></tr>\n",
       "</thead>\n",
       "<tbody>\n",
       "\t<tr><th scope=row>1</th><td>GTEX-1117F-0726-SM-5GIEN</td><td>GTEX-1117F</td><td>True</td><td>Heart_Atrial_Appendage</td></tr>\n",
       "\t<tr><th scope=row>2</th><td>GTEX-111FC-0626-SM-5N9CU</td><td>GTEX-111FC</td><td>True</td><td>Heart_Atrial_Appendage</td></tr>\n",
       "\t<tr><th scope=row>3</th><td>GTEX-111FC-0826-SM-5GZWO</td><td>GTEX-111FC</td><td>True</td><td>Heart_Left_Ventricle  </td></tr>\n",
       "\t<tr><th scope=row>4</th><td>GTEX-111VG-0326-SM-5GZX7</td><td>GTEX-111VG</td><td>True</td><td>Heart_Atrial_Appendage</td></tr>\n",
       "\t<tr><th scope=row>5</th><td>GTEX-111YS-0326-SM-5GZZ3</td><td>GTEX-111YS</td><td>True</td><td>Heart_Atrial_Appendage</td></tr>\n",
       "\t<tr><th scope=row>6</th><td>GTEX-111YS-0426-SM-5987O</td><td>GTEX-111YS</td><td>True</td><td>Heart_Left_Ventricle  </td></tr>\n",
       "</tbody>\n",
       "</table>\n"
      ],
      "text/latex": [
       "A data.frame: 6 × 4\n",
       "\\begin{tabular}{r|llll}\n",
       "  & V1 & V2 & V3 & V4\\\\\n",
       "  & <chr> & <chr> & <chr> & <chr>\\\\\n",
       "\\hline\n",
       "\t1 & GTEX-1117F-0726-SM-5GIEN & GTEX-1117F & True & Heart\\_Atrial\\_Appendage\\\\\n",
       "\t2 & GTEX-111FC-0626-SM-5N9CU & GTEX-111FC & True & Heart\\_Atrial\\_Appendage\\\\\n",
       "\t3 & GTEX-111FC-0826-SM-5GZWO & GTEX-111FC & True & Heart\\_Left\\_Ventricle  \\\\\n",
       "\t4 & GTEX-111VG-0326-SM-5GZX7 & GTEX-111VG & True & Heart\\_Atrial\\_Appendage\\\\\n",
       "\t5 & GTEX-111YS-0326-SM-5GZZ3 & GTEX-111YS & True & Heart\\_Atrial\\_Appendage\\\\\n",
       "\t6 & GTEX-111YS-0426-SM-5987O & GTEX-111YS & True & Heart\\_Left\\_Ventricle  \\\\\n",
       "\\end{tabular}\n"
      ],
      "text/markdown": [
       "\n",
       "A data.frame: 6 × 4\n",
       "\n",
       "| <!--/--> | V1 &lt;chr&gt; | V2 &lt;chr&gt; | V3 &lt;chr&gt; | V4 &lt;chr&gt; |\n",
       "|---|---|---|---|---|\n",
       "| 1 | GTEX-1117F-0726-SM-5GIEN | GTEX-1117F | True | Heart_Atrial_Appendage |\n",
       "| 2 | GTEX-111FC-0626-SM-5N9CU | GTEX-111FC | True | Heart_Atrial_Appendage |\n",
       "| 3 | GTEX-111FC-0826-SM-5GZWO | GTEX-111FC | True | Heart_Left_Ventricle   |\n",
       "| 4 | GTEX-111VG-0326-SM-5GZX7 | GTEX-111VG | True | Heart_Atrial_Appendage |\n",
       "| 5 | GTEX-111YS-0326-SM-5GZZ3 | GTEX-111YS | True | Heart_Atrial_Appendage |\n",
       "| 6 | GTEX-111YS-0426-SM-5987O | GTEX-111YS | True | Heart_Left_Ventricle   |\n",
       "\n"
      ],
      "text/plain": [
       "  V1                       V2         V3   V4                    \n",
       "1 GTEX-1117F-0726-SM-5GIEN GTEX-1117F True Heart_Atrial_Appendage\n",
       "2 GTEX-111FC-0626-SM-5N9CU GTEX-111FC True Heart_Atrial_Appendage\n",
       "3 GTEX-111FC-0826-SM-5GZWO GTEX-111FC True Heart_Left_Ventricle  \n",
       "4 GTEX-111VG-0326-SM-5GZX7 GTEX-111VG True Heart_Atrial_Appendage\n",
       "5 GTEX-111YS-0326-SM-5GZZ3 GTEX-111YS True Heart_Atrial_Appendage\n",
       "6 GTEX-111YS-0426-SM-5987O GTEX-111YS True Heart_Left_Ventricle  "
      ]
     },
     "metadata": {},
     "output_type": "display_data"
    },
    {
     "data": {
      "text/html": [
       "<style>\n",
       ".list-inline {list-style: none; margin:0; padding: 0}\n",
       ".list-inline>li {display: inline-block}\n",
       ".list-inline>li:not(:last-child)::after {content: \"\\00b7\"; padding: 0 .5ex}\n",
       "</style>\n",
       "<ol class=list-inline><li>4421</li><li>4</li></ol>\n"
      ],
      "text/latex": [
       "\\begin{enumerate*}\n",
       "\\item 4421\n",
       "\\item 4\n",
       "\\end{enumerate*}\n"
      ],
      "text/markdown": [
       "1. 4421\n",
       "2. 4\n",
       "\n",
       "\n"
      ],
      "text/plain": [
       "[1] 4421    4"
      ]
     },
     "metadata": {},
     "output_type": "display_data"
    },
    {
     "data": {
      "text/html": [
       "<style>\n",
       ".list-inline {list-style: none; margin:0; padding: 0}\n",
       ".list-inline>li {display: inline-block}\n",
       ".list-inline>li:not(:last-child)::after {content: \"\\00b7\"; padding: 0 .5ex}\n",
       "</style>\n",
       "<ol class=list-inline><li>'GTEX-1117F-0726-SM-5GIEN'</li><li>'GTEX-111FC-0626-SM-5N9CU'</li><li>'GTEX-111FC-0826-SM-5GZWO'</li><li>'GTEX-111VG-0326-SM-5GZX7'</li><li>'GTEX-111YS-0326-SM-5GZZ3'</li><li>'GTEX-111YS-0426-SM-5987O'</li></ol>\n"
      ],
      "text/latex": [
       "\\begin{enumerate*}\n",
       "\\item 'GTEX-1117F-0726-SM-5GIEN'\n",
       "\\item 'GTEX-111FC-0626-SM-5N9CU'\n",
       "\\item 'GTEX-111FC-0826-SM-5GZWO'\n",
       "\\item 'GTEX-111VG-0326-SM-5GZX7'\n",
       "\\item 'GTEX-111YS-0326-SM-5GZZ3'\n",
       "\\item 'GTEX-111YS-0426-SM-5987O'\n",
       "\\end{enumerate*}\n"
      ],
      "text/markdown": [
       "1. 'GTEX-1117F-0726-SM-5GIEN'\n",
       "2. 'GTEX-111FC-0626-SM-5N9CU'\n",
       "3. 'GTEX-111FC-0826-SM-5GZWO'\n",
       "4. 'GTEX-111VG-0326-SM-5GZX7'\n",
       "5. 'GTEX-111YS-0326-SM-5GZZ3'\n",
       "6. 'GTEX-111YS-0426-SM-5987O'\n",
       "\n",
       "\n"
      ],
      "text/plain": [
       "[1] \"GTEX-1117F-0726-SM-5GIEN\" \"GTEX-111FC-0626-SM-5N9CU\"\n",
       "[3] \"GTEX-111FC-0826-SM-5GZWO\" \"GTEX-111VG-0326-SM-5GZX7\"\n",
       "[5] \"GTEX-111YS-0326-SM-5GZZ3\" \"GTEX-111YS-0426-SM-5987O\""
      ]
     },
     "metadata": {},
     "output_type": "display_data"
    },
    {
     "data": {
      "text/html": [
       "4421"
      ],
      "text/latex": [
       "4421"
      ],
      "text/markdown": [
       "4421"
      ],
      "text/plain": [
       "[1] 4421"
      ]
     },
     "metadata": {},
     "output_type": "display_data"
    }
   ],
   "source": [
    "# We read the list with the samples and tissues of interest\n",
    "\n",
    "samples_to_select = read.table(\"GTEx_Analysis_v8_RNAseq_samples.ASSIGN.txt\", header=F, sep=\"\\t\", stringsAsFactors=F)\n",
    "head(samples_to_select)\n",
    "dim(samples_to_select)\n",
    "samples_to_select_ids = samples_to_select$V1\n",
    "head(samples_to_select_ids)\n",
    "\n",
    "# In the following steps of the analysis, we do work with 4421 samples\n",
    "\n",
    "length(samples_to_select_ids)"
   ]
  },
  {
   "cell_type": "code",
   "execution_count": 41,
   "id": "85efd3eb",
   "metadata": {},
   "outputs": [
    {
     "data": {
      "text/html": [
       "<style>\n",
       ".list-inline {list-style: none; margin:0; padding: 0}\n",
       ".list-inline>li {display: inline-block}\n",
       ".list-inline>li:not(:last-child)::after {content: \"\\00b7\"; padding: 0 .5ex}\n",
       "</style>\n",
       "<ol class=list-inline><li>18446</li><li>4421</li></ol>\n"
      ],
      "text/latex": [
       "\\begin{enumerate*}\n",
       "\\item 18446\n",
       "\\item 4421\n",
       "\\end{enumerate*}\n"
      ],
      "text/markdown": [
       "1. 18446\n",
       "2. 4421\n",
       "\n",
       "\n"
      ],
      "text/plain": [
       "[1] 18446  4421"
      ]
     },
     "metadata": {},
     "output_type": "display_data"
    },
    {
     "data": {
      "text/html": [
       "<style>\n",
       ".list-inline {list-style: none; margin:0; padding: 0}\n",
       ".list-inline>li {display: inline-block}\n",
       ".list-inline>li:not(:last-child)::after {content: \"\\00b7\"; padding: 0 .5ex}\n",
       "</style>\n",
       "<ol class=list-inline><li>'OR4F5'</li><li>'OR4F29'</li><li>'OR4F16'</li><li>'SAMD11'</li><li>'NOC2L'</li><li>'KLHL17'</li></ol>\n"
      ],
      "text/latex": [
       "\\begin{enumerate*}\n",
       "\\item 'OR4F5'\n",
       "\\item 'OR4F29'\n",
       "\\item 'OR4F16'\n",
       "\\item 'SAMD11'\n",
       "\\item 'NOC2L'\n",
       "\\item 'KLHL17'\n",
       "\\end{enumerate*}\n"
      ],
      "text/markdown": [
       "1. 'OR4F5'\n",
       "2. 'OR4F29'\n",
       "3. 'OR4F16'\n",
       "4. 'SAMD11'\n",
       "5. 'NOC2L'\n",
       "6. 'KLHL17'\n",
       "\n",
       "\n"
      ],
      "text/plain": [
       "[1] \"OR4F5\"  \"OR4F29\" \"OR4F16\" \"SAMD11\" \"NOC2L\"  \"KLHL17\""
      ]
     },
     "metadata": {},
     "output_type": "display_data"
    },
    {
     "name": "stdout",
     "output_type": "stream",
     "text": [
      "The number of the protein coding genes that we work with is :\n"
     ]
    },
    {
     "data": {
      "text/html": [
       "18446"
      ],
      "text/latex": [
       "18446"
      ],
      "text/markdown": [
       "18446"
      ],
      "text/plain": [
       "[1] 18446"
      ]
     },
     "metadata": {},
     "output_type": "display_data"
    },
    {
     "name": "stdout",
     "output_type": "stream",
     "text": [
      "The number of the samples that we work with is :\n"
     ]
    },
    {
     "data": {
      "text/html": [
       "4421"
      ],
      "text/latex": [
       "4421"
      ],
      "text/markdown": [
       "4421"
      ],
      "text/plain": [
       "[1] 4421"
      ]
     },
     "metadata": {},
     "output_type": "display_data"
    }
   ],
   "source": [
    "# instead of data.table library we do use dplyr\n",
    "\n",
    "d = c %>% select(any_of(samples_to_select_ids))\n",
    "dim(d)\n",
    "head(rownames(d))\n",
    "\n",
    "# The number of the protein coding genes that we work with is\n",
    "cat(paste0('The number of the protein coding genes that we work with is :', '\\n'))\n",
    "dim(d)[1]\n",
    "\n",
    "# The number of the samples that we work with is \n",
    "cat(paste0('The number of the samples that we work with is :', '\\n'))\n",
    "dim(d)[2]"
   ]
  },
  {
   "cell_type": "code",
   "execution_count": 33,
   "id": "4881e253",
   "metadata": {},
   "outputs": [],
   "source": [
    "# to print the data frame with the samples of interest to ease the downstream processing \n",
    "\n",
    "write.table(d, file = \"df4.pc.samples.of.interest.txt\", \n",
    "            append = FALSE, quote = FALSE, \n",
    "            sep = \"\\t\", row.names = TRUE, col.names = TRUE)"
   ]
  }
 ],
 "metadata": {
  "kernelspec": {
   "display_name": "R",
   "language": "R",
   "name": "ir"
  },
  "language_info": {
   "codemirror_mode": "r",
   "file_extension": ".r",
   "mimetype": "text/x-r-source",
   "name": "R",
   "pygments_lexer": "r",
   "version": "4.2.2"
  }
 },
 "nbformat": 4,
 "nbformat_minor": 5
}
