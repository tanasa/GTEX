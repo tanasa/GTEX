{
 "cells": [
  {
   "cell_type": "code",
   "execution_count": 7,
   "id": "35549bee",
   "metadata": {},
   "outputs": [
    {
     "data": {
      "text/html": [
       "10"
      ],
      "text/latex": [
       "10"
      ],
      "text/markdown": [
       "10"
      ],
      "text/plain": [
       "[1] 10"
      ]
     },
     "metadata": {},
     "output_type": "display_data"
    }
   ],
   "source": [
    "suppressMessages({\n",
    "\n",
    "library(data.table, quietly = TRUE)\n",
    "library(plyr, quietly = TRUE)\n",
    "library(doParallel,quietly = TRUE)\n",
    "library(tidyverse, quietly = TRUE)\n",
    "library(\"stringr\", quietly = TRUE)\n",
    "library(\"reactome.db\")\n",
    "library(\"AnnotationHub\")\n",
    "library(\"org.Hs.eg.db\")\n",
    "library(\"AnnotationDbi\")\n",
    "library(\"ReactomePA\")\n",
    "library(\"EnsDb.Hsapiens.v86\")\n",
    "library(\"clusterProfiler\")\n",
    "library(\"DOSE\")\n",
    "library(msigdbr)\n",
    "library(rtracklayer)\n",
    "})\n",
    "\n",
    "cores <- detectCores()\n",
    "cores\n",
    "registerDoParallel(cores=cores)\n",
    "options(future.globals.maxSize = Inf)\n",
    "\n",
    "suppressMessages({\n",
    "    \n",
    "library(\"SummarizedExperiment\")\n",
    "library(\"ReportingTools\")\n",
    "library(\"EnrichmentBrowser\")\n",
    "library(stringr)\n",
    "library(dplyr)\n",
    "library(tidyr)\n",
    "library(pathfindR)\n",
    "library(GenomicRanges)\n",
    "library(Gviz)\n",
    "library(regioneR)  \n",
    "library(\"TxDb.Hsapiens.UCSC.hg38.knownGene\")\n",
    "})"
   ]
  },
  {
   "cell_type": "code",
   "execution_count": null,
   "id": "3cb0aa30",
   "metadata": {},
   "outputs": [],
   "source": [
    "# There are three other analyses that we can do :\n",
    "\n",
    "# 1. Network reconstruction and Active Network oriented Enrichment Analysis\n",
    "# 2. TF motif enrichment (I have used HOMER)\n",
    "# 3. Genome-wide visualization of the promoters of the liver-specific genes, \n",
    "# asking the question on whether we can identify clusters of liver specific gene expression.    "
   ]
  },
  {
   "cell_type": "code",
   "execution_count": 10,
   "id": "7eee11ad",
   "metadata": {},
   "outputs": [
    {
     "data": {
      "text/html": [
       "<table class=\"dataframe\">\n",
       "<caption>A data.frame: 2 × 4</caption>\n",
       "<thead>\n",
       "\t<tr><th></th><th scope=col>median_tpm_Liver</th><th scope=col>median_tpm_Other</th><th scope=col>LO</th><th scope=col>gene</th></tr>\n",
       "\t<tr><th></th><th scope=col>&lt;dbl&gt;</th><th scope=col>&lt;dbl&gt;</th><th scope=col>&lt;dbl&gt;</th><th scope=col>&lt;chr&gt;</th></tr>\n",
       "</thead>\n",
       "<tbody>\n",
       "\t<tr><th scope=row>1</th><td>28.935</td><td>20.460</td><td>1.414223</td><td>ISG15 </td></tr>\n",
       "\t<tr><th scope=row>2</th><td> 5.877</td><td> 4.422</td><td>1.329037</td><td>SCNN1D</td></tr>\n",
       "</tbody>\n",
       "</table>\n"
      ],
      "text/latex": [
       "A data.frame: 2 × 4\n",
       "\\begin{tabular}{r|llll}\n",
       "  & median\\_tpm\\_Liver & median\\_tpm\\_Other & LO & gene\\\\\n",
       "  & <dbl> & <dbl> & <dbl> & <chr>\\\\\n",
       "\\hline\n",
       "\t1 & 28.935 & 20.460 & 1.414223 & ISG15 \\\\\n",
       "\t2 &  5.877 &  4.422 & 1.329037 & SCNN1D\\\\\n",
       "\\end{tabular}\n"
      ],
      "text/markdown": [
       "\n",
       "A data.frame: 2 × 4\n",
       "\n",
       "| <!--/--> | median_tpm_Liver &lt;dbl&gt; | median_tpm_Other &lt;dbl&gt; | LO &lt;dbl&gt; | gene &lt;chr&gt; |\n",
       "|---|---|---|---|---|\n",
       "| 1 | 28.935 | 20.460 | 1.414223 | ISG15  |\n",
       "| 2 |  5.877 |  4.422 | 1.329037 | SCNN1D |\n",
       "\n"
      ],
      "text/plain": [
       "  median_tpm_Liver median_tpm_Other LO       gene  \n",
       "1 28.935           20.460           1.414223 ISG15 \n",
       "2  5.877            4.422           1.329037 SCNN1D"
      ]
     },
     "metadata": {},
     "output_type": "display_data"
    },
    {
     "data": {
      "text/html": [
       "1938"
      ],
      "text/latex": [
       "1938"
      ],
      "text/markdown": [
       "1938"
      ],
      "text/plain": [
       "[1] 1938"
      ]
     },
     "metadata": {},
     "output_type": "display_data"
    },
    {
     "data": {
      "text/html": [
       "'GRanges'"
      ],
      "text/latex": [
       "'GRanges'"
      ],
      "text/markdown": [
       "'GRanges'"
      ],
      "text/plain": [
       "[1] \"GRanges\"\n",
       "attr(,\"package\")\n",
       "[1] \"GenomicRanges\""
      ]
     },
     "metadata": {},
     "output_type": "display_data"
    }
   ],
   "source": [
    "a = read.table(\"df4.pc.samples.of.interest.txt.liver.specific.genes.txt\", header=T, sep=\"\\t\", stringsAsFactors=F)\n",
    "head(a,2)\n",
    "name = basename(\"df4.pc.samples.of.interest.txt.liver.specific.genes.txt\")\n",
    "\n",
    "GENES = a$gene\n",
    "length(GENES)\n",
    "\n",
    "x = rtracklayer::import(\"df4.pc.samples.of.interest.txt.liver.specific.genes.txt.liver.specific.genes.TSS.bed\")\n",
    "class(x)"
   ]
  },
  {
   "cell_type": "code",
   "execution_count": 11,
   "id": "b70872bf",
   "metadata": {},
   "outputs": [],
   "source": [
    "# 1. Network reconstruction and Active Network oriented Enrichment Analysis"
   ]
  },
  {
   "cell_type": "code",
   "execution_count": 12,
   "id": "fc71af5d",
   "metadata": {},
   "outputs": [
    {
     "name": "stdout",
     "output_type": "stream",
     "text": [
      "Active-subnetwork-oriented Enrichment Analysis : we are not able to use several packages such as \n",
      "pathfindR or enrichmentBrowser that identifies active subnetworks, given the fact that we do not have \n",
      "p-values that are associated with liver-specific genes.\n",
      "EnrichmentBrowser implements many gene graph enrichment analysis methods such as \n",
      "GGEA, SPIA, PATHNET, DEGRAPH, TOPOLOGYGSA, GANPA, CEPA. NETGSA"
     ]
    }
   ],
   "source": [
    "\n",
    "cat(paste0('Active-subnetwork-oriented Enrichment Analysis : we are not able to use several packages such as \n",
    "pathfindR or enrichmentBrowser that identifies active subnetworks, given the fact that we do not have \n",
    "p-values that are associated with liver-specific genes.\n",
    "EnrichmentBrowser implements many gene graph enrichment analysis methods such as \n",
    "GGEA, SPIA, PATHNET, DEGRAPH, TOPOLOGYGSA, GANPA, CEPA. NETGSA'))\n"
   ]
  },
  {
   "cell_type": "code",
   "execution_count": 13,
   "id": "50ae4aea",
   "metadata": {},
   "outputs": [
    {
     "name": "stdout",
     "output_type": "stream",
     "text": [
      "The visualization of the network that connects the liver specific genes can be achieved by using RCy3 ; \n",
      "the liver specific genes can be network-built by using other packages such as GeneNetworkBuilder."
     ]
    }
   ],
   "source": [
    "cat(paste0('The visualization of the network that connects the liver specific genes can be achieved by using RCy3 ; \n",
    "the liver specific genes can be network-built by using other packages such as GeneNetworkBuilder.'))"
   ]
  },
  {
   "cell_type": "code",
   "execution_count": 14,
   "id": "df83bf66",
   "metadata": {},
   "outputs": [],
   "source": [
    "# 2. TF motif enrichment (I have used HOMER) : the results are described in a file that is : \n",
    "# A_slide_TF_enrichment_in _TSS_of_liver_specific_genes.pd"
   ]
  },
  {
   "cell_type": "code",
   "execution_count": 15,
   "id": "041a3d42",
   "metadata": {},
   "outputs": [],
   "source": [
    "# 3. Genome-wide visualization of the promoters of the liver-specific genes, \n",
    "# asking the question on whether we can identify clusters of liver specific gene expression.  "
   ]
  },
  {
   "cell_type": "code",
   "execution_count": 16,
   "id": "f3cab2e5",
   "metadata": {},
   "outputs": [
    {
     "data": {
      "text/html": [
       "'GRanges'"
      ],
      "text/latex": [
       "'GRanges'"
      ],
      "text/markdown": [
       "'GRanges'"
      ],
      "text/plain": [
       "[1] \"GRanges\"\n",
       "attr(,\"package\")\n",
       "[1] \"GenomicRanges\""
      ]
     },
     "metadata": {},
     "output_type": "display_data"
    },
    {
     "name": "stderr",
     "output_type": "stream",
     "text": [
      "Warning message in plotTracks(list(gtrack, atrack, grtrack)):\n",
      "\"The track chromosomes in 'trackList' differ. Setting all tracks to chromosome 'chr1'\"\n"
     ]
    },
    {
     "data": {
      "image/png": "[encoded data removed]",
      "text/plain": [
       "plot without title"
      ]
     },
     "metadata": {
      "image/png": {
       "height": 420,
       "width": 420
      }
     },
     "output_type": "display_data"
    }
   ],
   "source": [
    "# For visualization in GVIZ I have converted the TSS coordinates from hg38 to hg19\n",
    "# geneModels provides the annotations on hg19\n",
    "\n",
    "x.hg19 = rtracklayer::import(\"df4.pc.samples.of.interest.txt.liver.specific.genes.txt.liver.specific.genes.TSS.hg19.bed\")\n",
    "class(x.hg19)\n",
    "\n",
    "data(geneModels)\n",
    "data(cpgIslands)\n",
    "\n",
    "chr <- as.character(unique(seqnames(cpgIslands)))\n",
    "gen <- genome(cpgIslands)\n",
    "grtrack <- GeneRegionTrack(geneModels, genome = gen,\n",
    "                           chromosome = chr, name = \"Gene Model\")\n",
    "\n",
    "atrack = AnnotationTrack(x.hg19)\n",
    "gtrack = GenomeAxisTrack()\n",
    "\n",
    "# itrack = IdeogramTrack(genome = gen, chromosome = chr)\n",
    "# plotTracks(list(gtrack, atrack, itrack, grtrack), chromosome = \"chr21\", from = 10000000, to = 20000000)\n",
    "\n",
    "plotTracks(list(gtrack, atrack, grtrack))"
   ]
  }
 ],
 "metadata": {
  "kernelspec": {
   "display_name": "R",
   "language": "R",
   "name": "ir"
  },
  "language_info": {
   "codemirror_mode": "r",
   "file_extension": ".r",
   "mimetype": "text/x-r-source",
   "name": "R",
   "pygments_lexer": "r",
   "version": "4.2.2"
  }
 },
 "nbformat": 4,
 "nbformat_minor": 5
}
